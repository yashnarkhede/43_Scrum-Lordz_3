{
  "metadata": {
    "kernelspec": {
      "language": "python",
      "display_name": "Python 3",
      "name": "python3"
    },
    "language_info": {
      "pygments_lexer": "ipython3",
      "nbconvert_exporter": "python",
      "version": "3.6.4",
      "file_extension": ".py",
      "codemirror_mode": {
        "name": "ipython",
        "version": 3
      },
      "name": "python",
      "mimetype": "text/x-python"
    },
    "colab": {
      "provenance": [],
      "include_colab_link": true
    },
    "accelerator": "GPU"
  },
  "nbformat_minor": 0,
  "nbformat": 4,
  "cells": [
    {
      "cell_type": "markdown",
      "metadata": {
        "id": "view-in-github",
        "colab_type": "text"
      },
      "source": [
        "<a href=\"https://colab.research.google.com/github/yashnarkhede/43_Scrum-Lordz_3/blob/main/Prediction_of_on_time_delivery_of_products.ipynb\" target=\"_parent\"><img src=\"https://colab.research.google.com/assets/colab-badge.svg\" alt=\"Open In Colab\"/></a>"
      ]
    },
    {
      "cell_type": "markdown",
      "source": [
        "# Prediction of on time delivery of products"
      ],
      "metadata": {
        "id": "6CDKHZNvdQsA"
      }
    },
    {
      "cell_type": "code",
      "source": [
        "from google.colab import drive\n",
        "drive.mount('/content/drive')"
      ],
      "metadata": {
        "id": "9yFC8xs0dZHN",
        "colab": {
          "base_uri": "https://localhost:8080/"
        },
        "outputId": "acd16c93-1368-4a09-f69e-a3ecd2272f19"
      },
      "execution_count": 1,
      "outputs": [
        {
          "output_type": "stream",
          "name": "stdout",
          "text": [
            "Mounted at /content/drive\n"
          ]
        }
      ]
    },
    {
      "cell_type": "code",
      "source": [
        "\n",
        "import numpy as np \n",
        "import pandas as pd \n",
        "import seaborn as sns\n",
        "import matplotlib.pyplot as plt\n",
        "from sklearn.preprocessing import LabelEncoder , StandardScaler, MinMaxScaler\n",
        "from sklearn.model_selection import train_test_split, GridSearchCV\n",
        "from sklearn import svm\n",
        "from sklearn.ensemble import RandomForestClassifier\n",
        "import xgboost as xgb\n",
        "from sklearn.model_selection import train_test_split\n",
        "from sklearn.model_selection import cross_val_score, KFold\n",
        "from sklearn.metrics import mean_squared_error\n",
        "from keras.models import Sequential\n",
        "from keras.layers import Dense\n",
        "from sklearn.linear_model import LogisticRegression\n",
        "from sklearn.metrics import accuracy_score, confusion_matrix, classification_report\n",
        "from sklearn.feature_selection import chi2\n",
        "from scipy.stats import chi2_contingency\n",
        "from xgboost import XGBRegressor\n",
        "\n"
      ],
      "metadata": {
        "_uuid": "8f2839f25d086af736a60e9eeb907d3b93b6e0e5",
        "_cell_guid": "b1076dfc-b9ad-4769-8c92-a6c4dae69d19",
        "execution": {
          "iopub.status.busy": "2021-05-24T12:40:21.208985Z",
          "iopub.execute_input": "2021-05-24T12:40:21.209765Z",
          "iopub.status.idle": "2021-05-24T12:40:28.688162Z",
          "shell.execute_reply.started": "2021-05-24T12:40:21.209655Z",
          "shell.execute_reply": "2021-05-24T12:40:28.687118Z"
        },
        "trusted": true,
        "id": "wxGrR8vRdQsC"
      },
      "execution_count": 2,
      "outputs": []
    },
    {
      "cell_type": "code",
      "source": [
        "dataset = pd.read_csv('/content/drive/MyDrive/Ecommerce_Train.csv')\n",
        "dataset.head()"
      ],
      "metadata": {
        "execution": {
          "iopub.status.busy": "2021-05-24T12:40:28.690046Z",
          "iopub.execute_input": "2021-05-24T12:40:28.69042Z",
          "iopub.status.idle": "2021-05-24T12:40:28.763423Z",
          "shell.execute_reply.started": "2021-05-24T12:40:28.690388Z",
          "shell.execute_reply": "2021-05-24T12:40:28.762437Z"
        },
        "trusted": true,
        "id": "n5q5n_SIdQsD",
        "colab": {
          "base_uri": "https://localhost:8080/",
          "height": 270
        },
        "outputId": "58faaf2c-add4-4d79-ed39-b53ae917a898"
      },
      "execution_count": 3,
      "outputs": [
        {
          "output_type": "execute_result",
          "data": {
            "text/plain": [
              "   ID Warehouse_block Mode_of_Shipment  Customer_care_calls  Customer_rating  \\\n",
              "0   1               D           Flight                    4                2   \n",
              "1   2               F           Flight                    4                5   \n",
              "2   3               A           Flight                    2                2   \n",
              "3   4               B           Flight                    3                3   \n",
              "4   5               C           Flight                    2                2   \n",
              "\n",
              "   Cost_of_the_Product  Prior_purchases Product_importance Gender  \\\n",
              "0                  177                3                low      F   \n",
              "1                  216                2                low      M   \n",
              "2                  183                4                low      M   \n",
              "3                  176                4             medium      M   \n",
              "4                  184                3             medium      F   \n",
              "\n",
              "   Discount_offered  Weight_in_gms  Reached.on.Time_Y.N  \n",
              "0                44           1233                    1  \n",
              "1                59           3088                    1  \n",
              "2                48           3374                    1  \n",
              "3                10           1177                    1  \n",
              "4                46           2484                    1  "
            ],
            "text/html": [
              "\n",
              "  <div id=\"df-07e89e27-8c3a-4c79-8b10-053de6f5952b\">\n",
              "    <div class=\"colab-df-container\">\n",
              "      <div>\n",
              "<style scoped>\n",
              "    .dataframe tbody tr th:only-of-type {\n",
              "        vertical-align: middle;\n",
              "    }\n",
              "\n",
              "    .dataframe tbody tr th {\n",
              "        vertical-align: top;\n",
              "    }\n",
              "\n",
              "    .dataframe thead th {\n",
              "        text-align: right;\n",
              "    }\n",
              "</style>\n",
              "<table border=\"1\" class=\"dataframe\">\n",
              "  <thead>\n",
              "    <tr style=\"text-align: right;\">\n",
              "      <th></th>\n",
              "      <th>ID</th>\n",
              "      <th>Warehouse_block</th>\n",
              "      <th>Mode_of_Shipment</th>\n",
              "      <th>Customer_care_calls</th>\n",
              "      <th>Customer_rating</th>\n",
              "      <th>Cost_of_the_Product</th>\n",
              "      <th>Prior_purchases</th>\n",
              "      <th>Product_importance</th>\n",
              "      <th>Gender</th>\n",
              "      <th>Discount_offered</th>\n",
              "      <th>Weight_in_gms</th>\n",
              "      <th>Reached.on.Time_Y.N</th>\n",
              "    </tr>\n",
              "  </thead>\n",
              "  <tbody>\n",
              "    <tr>\n",
              "      <th>0</th>\n",
              "      <td>1</td>\n",
              "      <td>D</td>\n",
              "      <td>Flight</td>\n",
              "      <td>4</td>\n",
              "      <td>2</td>\n",
              "      <td>177</td>\n",
              "      <td>3</td>\n",
              "      <td>low</td>\n",
              "      <td>F</td>\n",
              "      <td>44</td>\n",
              "      <td>1233</td>\n",
              "      <td>1</td>\n",
              "    </tr>\n",
              "    <tr>\n",
              "      <th>1</th>\n",
              "      <td>2</td>\n",
              "      <td>F</td>\n",
              "      <td>Flight</td>\n",
              "      <td>4</td>\n",
              "      <td>5</td>\n",
              "      <td>216</td>\n",
              "      <td>2</td>\n",
              "      <td>low</td>\n",
              "      <td>M</td>\n",
              "      <td>59</td>\n",
              "      <td>3088</td>\n",
              "      <td>1</td>\n",
              "    </tr>\n",
              "    <tr>\n",
              "      <th>2</th>\n",
              "      <td>3</td>\n",
              "      <td>A</td>\n",
              "      <td>Flight</td>\n",
              "      <td>2</td>\n",
              "      <td>2</td>\n",
              "      <td>183</td>\n",
              "      <td>4</td>\n",
              "      <td>low</td>\n",
              "      <td>M</td>\n",
              "      <td>48</td>\n",
              "      <td>3374</td>\n",
              "      <td>1</td>\n",
              "    </tr>\n",
              "    <tr>\n",
              "      <th>3</th>\n",
              "      <td>4</td>\n",
              "      <td>B</td>\n",
              "      <td>Flight</td>\n",
              "      <td>3</td>\n",
              "      <td>3</td>\n",
              "      <td>176</td>\n",
              "      <td>4</td>\n",
              "      <td>medium</td>\n",
              "      <td>M</td>\n",
              "      <td>10</td>\n",
              "      <td>1177</td>\n",
              "      <td>1</td>\n",
              "    </tr>\n",
              "    <tr>\n",
              "      <th>4</th>\n",
              "      <td>5</td>\n",
              "      <td>C</td>\n",
              "      <td>Flight</td>\n",
              "      <td>2</td>\n",
              "      <td>2</td>\n",
              "      <td>184</td>\n",
              "      <td>3</td>\n",
              "      <td>medium</td>\n",
              "      <td>F</td>\n",
              "      <td>46</td>\n",
              "      <td>2484</td>\n",
              "      <td>1</td>\n",
              "    </tr>\n",
              "  </tbody>\n",
              "</table>\n",
              "</div>\n",
              "      <button class=\"colab-df-convert\" onclick=\"convertToInteractive('df-07e89e27-8c3a-4c79-8b10-053de6f5952b')\"\n",
              "              title=\"Convert this dataframe to an interactive table.\"\n",
              "              style=\"display:none;\">\n",
              "        \n",
              "  <svg xmlns=\"http://www.w3.org/2000/svg\" height=\"24px\"viewBox=\"0 0 24 24\"\n",
              "       width=\"24px\">\n",
              "    <path d=\"M0 0h24v24H0V0z\" fill=\"none\"/>\n",
              "    <path d=\"M18.56 5.44l.94 2.06.94-2.06 2.06-.94-2.06-.94-.94-2.06-.94 2.06-2.06.94zm-11 1L8.5 8.5l.94-2.06 2.06-.94-2.06-.94L8.5 2.5l-.94 2.06-2.06.94zm10 10l.94 2.06.94-2.06 2.06-.94-2.06-.94-.94-2.06-.94 2.06-2.06.94z\"/><path d=\"M17.41 7.96l-1.37-1.37c-.4-.4-.92-.59-1.43-.59-.52 0-1.04.2-1.43.59L10.3 9.45l-7.72 7.72c-.78.78-.78 2.05 0 2.83L4 21.41c.39.39.9.59 1.41.59.51 0 1.02-.2 1.41-.59l7.78-7.78 2.81-2.81c.8-.78.8-2.07 0-2.86zM5.41 20L4 18.59l7.72-7.72 1.47 1.35L5.41 20z\"/>\n",
              "  </svg>\n",
              "      </button>\n",
              "      \n",
              "  <style>\n",
              "    .colab-df-container {\n",
              "      display:flex;\n",
              "      flex-wrap:wrap;\n",
              "      gap: 12px;\n",
              "    }\n",
              "\n",
              "    .colab-df-convert {\n",
              "      background-color: #E8F0FE;\n",
              "      border: none;\n",
              "      border-radius: 50%;\n",
              "      cursor: pointer;\n",
              "      display: none;\n",
              "      fill: #1967D2;\n",
              "      height: 32px;\n",
              "      padding: 0 0 0 0;\n",
              "      width: 32px;\n",
              "    }\n",
              "\n",
              "    .colab-df-convert:hover {\n",
              "      background-color: #E2EBFA;\n",
              "      box-shadow: 0px 1px 2px rgba(60, 64, 67, 0.3), 0px 1px 3px 1px rgba(60, 64, 67, 0.15);\n",
              "      fill: #174EA6;\n",
              "    }\n",
              "\n",
              "    [theme=dark] .colab-df-convert {\n",
              "      background-color: #3B4455;\n",
              "      fill: #D2E3FC;\n",
              "    }\n",
              "\n",
              "    [theme=dark] .colab-df-convert:hover {\n",
              "      background-color: #434B5C;\n",
              "      box-shadow: 0px 1px 3px 1px rgba(0, 0, 0, 0.15);\n",
              "      filter: drop-shadow(0px 1px 2px rgba(0, 0, 0, 0.3));\n",
              "      fill: #FFFFFF;\n",
              "    }\n",
              "  </style>\n",
              "\n",
              "      <script>\n",
              "        const buttonEl =\n",
              "          document.querySelector('#df-07e89e27-8c3a-4c79-8b10-053de6f5952b button.colab-df-convert');\n",
              "        buttonEl.style.display =\n",
              "          google.colab.kernel.accessAllowed ? 'block' : 'none';\n",
              "\n",
              "        async function convertToInteractive(key) {\n",
              "          const element = document.querySelector('#df-07e89e27-8c3a-4c79-8b10-053de6f5952b');\n",
              "          const dataTable =\n",
              "            await google.colab.kernel.invokeFunction('convertToInteractive',\n",
              "                                                     [key], {});\n",
              "          if (!dataTable) return;\n",
              "\n",
              "          const docLinkHtml = 'Like what you see? Visit the ' +\n",
              "            '<a target=\"_blank\" href=https://colab.research.google.com/notebooks/data_table.ipynb>data table notebook</a>'\n",
              "            + ' to learn more about interactive tables.';\n",
              "          element.innerHTML = '';\n",
              "          dataTable['output_type'] = 'display_data';\n",
              "          await google.colab.output.renderOutput(dataTable, element);\n",
              "          const docLink = document.createElement('div');\n",
              "          docLink.innerHTML = docLinkHtml;\n",
              "          element.appendChild(docLink);\n",
              "        }\n",
              "      </script>\n",
              "    </div>\n",
              "  </div>\n",
              "  "
            ]
          },
          "metadata": {},
          "execution_count": 3
        }
      ]
    },
    {
      "cell_type": "markdown",
      "source": [
        "# Data Profiling"
      ],
      "metadata": {
        "id": "LMM58Lf_dQsD"
      }
    },
    {
      "cell_type": "code",
      "source": [
        "dataset.shape"
      ],
      "metadata": {
        "execution": {
          "iopub.status.busy": "2021-05-24T12:40:28.765182Z",
          "iopub.execute_input": "2021-05-24T12:40:28.765474Z",
          "iopub.status.idle": "2021-05-24T12:40:28.772219Z",
          "shell.execute_reply.started": "2021-05-24T12:40:28.765435Z",
          "shell.execute_reply": "2021-05-24T12:40:28.771068Z"
        },
        "trusted": true,
        "id": "bR0nRfWtdQsD",
        "colab": {
          "base_uri": "https://localhost:8080/"
        },
        "outputId": "6acbc441-ee76-4313-b1bf-edaa204dd300"
      },
      "execution_count": 4,
      "outputs": [
        {
          "output_type": "execute_result",
          "data": {
            "text/plain": [
              "(10999, 12)"
            ]
          },
          "metadata": {},
          "execution_count": 4
        }
      ]
    },
    {
      "cell_type": "code",
      "source": [
        "dataset.info()"
      ],
      "metadata": {
        "execution": {
          "iopub.status.busy": "2021-05-24T12:40:28.774675Z",
          "iopub.execute_input": "2021-05-24T12:40:28.775301Z",
          "iopub.status.idle": "2021-05-24T12:40:28.807632Z",
          "shell.execute_reply.started": "2021-05-24T12:40:28.775252Z",
          "shell.execute_reply": "2021-05-24T12:40:28.806443Z"
        },
        "trusted": true,
        "id": "iF7_2bLpdQsD",
        "colab": {
          "base_uri": "https://localhost:8080/"
        },
        "outputId": "21db392d-4579-4c61-dd4b-c32de05d1e0c"
      },
      "execution_count": 5,
      "outputs": [
        {
          "output_type": "stream",
          "name": "stdout",
          "text": [
            "<class 'pandas.core.frame.DataFrame'>\n",
            "RangeIndex: 10999 entries, 0 to 10998\n",
            "Data columns (total 12 columns):\n",
            " #   Column               Non-Null Count  Dtype \n",
            "---  ------               --------------  ----- \n",
            " 0   ID                   10999 non-null  int64 \n",
            " 1   Warehouse_block      10999 non-null  object\n",
            " 2   Mode_of_Shipment     10999 non-null  object\n",
            " 3   Customer_care_calls  10999 non-null  int64 \n",
            " 4   Customer_rating      10999 non-null  int64 \n",
            " 5   Cost_of_the_Product  10999 non-null  int64 \n",
            " 6   Prior_purchases      10999 non-null  int64 \n",
            " 7   Product_importance   10999 non-null  object\n",
            " 8   Gender               10999 non-null  object\n",
            " 9   Discount_offered     10999 non-null  int64 \n",
            " 10  Weight_in_gms        10999 non-null  int64 \n",
            " 11  Reached.on.Time_Y.N  10999 non-null  int64 \n",
            "dtypes: int64(8), object(4)\n",
            "memory usage: 1.0+ MB\n"
          ]
        }
      ]
    },
    {
      "cell_type": "code",
      "source": [
        "dataset.isnull().sum()"
      ],
      "metadata": {
        "execution": {
          "iopub.status.busy": "2021-05-24T12:40:28.809458Z",
          "iopub.execute_input": "2021-05-24T12:40:28.809935Z",
          "iopub.status.idle": "2021-05-24T12:40:28.823893Z",
          "shell.execute_reply.started": "2021-05-24T12:40:28.809889Z",
          "shell.execute_reply": "2021-05-24T12:40:28.822766Z"
        },
        "trusted": true,
        "id": "MtFlzKirdQsE",
        "colab": {
          "base_uri": "https://localhost:8080/"
        },
        "outputId": "a8fe36e2-7e4c-4c17-a4f4-fc961e4c5ad7"
      },
      "execution_count": 6,
      "outputs": [
        {
          "output_type": "execute_result",
          "data": {
            "text/plain": [
              "ID                     0\n",
              "Warehouse_block        0\n",
              "Mode_of_Shipment       0\n",
              "Customer_care_calls    0\n",
              "Customer_rating        0\n",
              "Cost_of_the_Product    0\n",
              "Prior_purchases        0\n",
              "Product_importance     0\n",
              "Gender                 0\n",
              "Discount_offered       0\n",
              "Weight_in_gms          0\n",
              "Reached.on.Time_Y.N    0\n",
              "dtype: int64"
            ]
          },
          "metadata": {},
          "execution_count": 6
        }
      ]
    },
    {
      "cell_type": "markdown",
      "source": [
        "**Observations:**\n",
        "* No missing values in the dataset"
      ],
      "metadata": {
        "id": "tceoLDCndQsE"
      }
    },
    {
      "cell_type": "code",
      "source": [
        "#Basic summary statistics\n",
        "dataset.describe()"
      ],
      "metadata": {
        "execution": {
          "iopub.status.busy": "2021-05-24T12:40:28.82543Z",
          "iopub.execute_input": "2021-05-24T12:40:28.825903Z",
          "iopub.status.idle": "2021-05-24T12:40:28.876852Z",
          "shell.execute_reply.started": "2021-05-24T12:40:28.825858Z",
          "shell.execute_reply": "2021-05-24T12:40:28.875795Z"
        },
        "trusted": true,
        "id": "c53ZAbmSdQsE",
        "colab": {
          "base_uri": "https://localhost:8080/",
          "height": 300
        },
        "outputId": "bb91f6eb-ec55-4986-e85f-f6c4278f381d"
      },
      "execution_count": 7,
      "outputs": [
        {
          "output_type": "execute_result",
          "data": {
            "text/plain": [
              "                ID  Customer_care_calls  Customer_rating  Cost_of_the_Product  \\\n",
              "count  10999.00000         10999.000000     10999.000000         10999.000000   \n",
              "mean    5500.00000             4.054459         2.990545           210.196836   \n",
              "std     3175.28214             1.141490         1.413603            48.063272   \n",
              "min        1.00000             2.000000         1.000000            96.000000   \n",
              "25%     2750.50000             3.000000         2.000000           169.000000   \n",
              "50%     5500.00000             4.000000         3.000000           214.000000   \n",
              "75%     8249.50000             5.000000         4.000000           251.000000   \n",
              "max    10999.00000             7.000000         5.000000           310.000000   \n",
              "\n",
              "       Prior_purchases  Discount_offered  Weight_in_gms  Reached.on.Time_Y.N  \n",
              "count     10999.000000      10999.000000   10999.000000         10999.000000  \n",
              "mean          3.567597         13.373216    3634.016729             0.596691  \n",
              "std           1.522860         16.205527    1635.377251             0.490584  \n",
              "min           2.000000          1.000000    1001.000000             0.000000  \n",
              "25%           3.000000          4.000000    1839.500000             0.000000  \n",
              "50%           3.000000          7.000000    4149.000000             1.000000  \n",
              "75%           4.000000         10.000000    5050.000000             1.000000  \n",
              "max          10.000000         65.000000    7846.000000             1.000000  "
            ],
            "text/html": [
              "\n",
              "  <div id=\"df-8ae32104-9dcd-41f7-801c-e64d381741e8\">\n",
              "    <div class=\"colab-df-container\">\n",
              "      <div>\n",
              "<style scoped>\n",
              "    .dataframe tbody tr th:only-of-type {\n",
              "        vertical-align: middle;\n",
              "    }\n",
              "\n",
              "    .dataframe tbody tr th {\n",
              "        vertical-align: top;\n",
              "    }\n",
              "\n",
              "    .dataframe thead th {\n",
              "        text-align: right;\n",
              "    }\n",
              "</style>\n",
              "<table border=\"1\" class=\"dataframe\">\n",
              "  <thead>\n",
              "    <tr style=\"text-align: right;\">\n",
              "      <th></th>\n",
              "      <th>ID</th>\n",
              "      <th>Customer_care_calls</th>\n",
              "      <th>Customer_rating</th>\n",
              "      <th>Cost_of_the_Product</th>\n",
              "      <th>Prior_purchases</th>\n",
              "      <th>Discount_offered</th>\n",
              "      <th>Weight_in_gms</th>\n",
              "      <th>Reached.on.Time_Y.N</th>\n",
              "    </tr>\n",
              "  </thead>\n",
              "  <tbody>\n",
              "    <tr>\n",
              "      <th>count</th>\n",
              "      <td>10999.00000</td>\n",
              "      <td>10999.000000</td>\n",
              "      <td>10999.000000</td>\n",
              "      <td>10999.000000</td>\n",
              "      <td>10999.000000</td>\n",
              "      <td>10999.000000</td>\n",
              "      <td>10999.000000</td>\n",
              "      <td>10999.000000</td>\n",
              "    </tr>\n",
              "    <tr>\n",
              "      <th>mean</th>\n",
              "      <td>5500.00000</td>\n",
              "      <td>4.054459</td>\n",
              "      <td>2.990545</td>\n",
              "      <td>210.196836</td>\n",
              "      <td>3.567597</td>\n",
              "      <td>13.373216</td>\n",
              "      <td>3634.016729</td>\n",
              "      <td>0.596691</td>\n",
              "    </tr>\n",
              "    <tr>\n",
              "      <th>std</th>\n",
              "      <td>3175.28214</td>\n",
              "      <td>1.141490</td>\n",
              "      <td>1.413603</td>\n",
              "      <td>48.063272</td>\n",
              "      <td>1.522860</td>\n",
              "      <td>16.205527</td>\n",
              "      <td>1635.377251</td>\n",
              "      <td>0.490584</td>\n",
              "    </tr>\n",
              "    <tr>\n",
              "      <th>min</th>\n",
              "      <td>1.00000</td>\n",
              "      <td>2.000000</td>\n",
              "      <td>1.000000</td>\n",
              "      <td>96.000000</td>\n",
              "      <td>2.000000</td>\n",
              "      <td>1.000000</td>\n",
              "      <td>1001.000000</td>\n",
              "      <td>0.000000</td>\n",
              "    </tr>\n",
              "    <tr>\n",
              "      <th>25%</th>\n",
              "      <td>2750.50000</td>\n",
              "      <td>3.000000</td>\n",
              "      <td>2.000000</td>\n",
              "      <td>169.000000</td>\n",
              "      <td>3.000000</td>\n",
              "      <td>4.000000</td>\n",
              "      <td>1839.500000</td>\n",
              "      <td>0.000000</td>\n",
              "    </tr>\n",
              "    <tr>\n",
              "      <th>50%</th>\n",
              "      <td>5500.00000</td>\n",
              "      <td>4.000000</td>\n",
              "      <td>3.000000</td>\n",
              "      <td>214.000000</td>\n",
              "      <td>3.000000</td>\n",
              "      <td>7.000000</td>\n",
              "      <td>4149.000000</td>\n",
              "      <td>1.000000</td>\n",
              "    </tr>\n",
              "    <tr>\n",
              "      <th>75%</th>\n",
              "      <td>8249.50000</td>\n",
              "      <td>5.000000</td>\n",
              "      <td>4.000000</td>\n",
              "      <td>251.000000</td>\n",
              "      <td>4.000000</td>\n",
              "      <td>10.000000</td>\n",
              "      <td>5050.000000</td>\n",
              "      <td>1.000000</td>\n",
              "    </tr>\n",
              "    <tr>\n",
              "      <th>max</th>\n",
              "      <td>10999.00000</td>\n",
              "      <td>7.000000</td>\n",
              "      <td>5.000000</td>\n",
              "      <td>310.000000</td>\n",
              "      <td>10.000000</td>\n",
              "      <td>65.000000</td>\n",
              "      <td>7846.000000</td>\n",
              "      <td>1.000000</td>\n",
              "    </tr>\n",
              "  </tbody>\n",
              "</table>\n",
              "</div>\n",
              "      <button class=\"colab-df-convert\" onclick=\"convertToInteractive('df-8ae32104-9dcd-41f7-801c-e64d381741e8')\"\n",
              "              title=\"Convert this dataframe to an interactive table.\"\n",
              "              style=\"display:none;\">\n",
              "        \n",
              "  <svg xmlns=\"http://www.w3.org/2000/svg\" height=\"24px\"viewBox=\"0 0 24 24\"\n",
              "       width=\"24px\">\n",
              "    <path d=\"M0 0h24v24H0V0z\" fill=\"none\"/>\n",
              "    <path d=\"M18.56 5.44l.94 2.06.94-2.06 2.06-.94-2.06-.94-.94-2.06-.94 2.06-2.06.94zm-11 1L8.5 8.5l.94-2.06 2.06-.94-2.06-.94L8.5 2.5l-.94 2.06-2.06.94zm10 10l.94 2.06.94-2.06 2.06-.94-2.06-.94-.94-2.06-.94 2.06-2.06.94z\"/><path d=\"M17.41 7.96l-1.37-1.37c-.4-.4-.92-.59-1.43-.59-.52 0-1.04.2-1.43.59L10.3 9.45l-7.72 7.72c-.78.78-.78 2.05 0 2.83L4 21.41c.39.39.9.59 1.41.59.51 0 1.02-.2 1.41-.59l7.78-7.78 2.81-2.81c.8-.78.8-2.07 0-2.86zM5.41 20L4 18.59l7.72-7.72 1.47 1.35L5.41 20z\"/>\n",
              "  </svg>\n",
              "      </button>\n",
              "      \n",
              "  <style>\n",
              "    .colab-df-container {\n",
              "      display:flex;\n",
              "      flex-wrap:wrap;\n",
              "      gap: 12px;\n",
              "    }\n",
              "\n",
              "    .colab-df-convert {\n",
              "      background-color: #E8F0FE;\n",
              "      border: none;\n",
              "      border-radius: 50%;\n",
              "      cursor: pointer;\n",
              "      display: none;\n",
              "      fill: #1967D2;\n",
              "      height: 32px;\n",
              "      padding: 0 0 0 0;\n",
              "      width: 32px;\n",
              "    }\n",
              "\n",
              "    .colab-df-convert:hover {\n",
              "      background-color: #E2EBFA;\n",
              "      box-shadow: 0px 1px 2px rgba(60, 64, 67, 0.3), 0px 1px 3px 1px rgba(60, 64, 67, 0.15);\n",
              "      fill: #174EA6;\n",
              "    }\n",
              "\n",
              "    [theme=dark] .colab-df-convert {\n",
              "      background-color: #3B4455;\n",
              "      fill: #D2E3FC;\n",
              "    }\n",
              "\n",
              "    [theme=dark] .colab-df-convert:hover {\n",
              "      background-color: #434B5C;\n",
              "      box-shadow: 0px 1px 3px 1px rgba(0, 0, 0, 0.15);\n",
              "      filter: drop-shadow(0px 1px 2px rgba(0, 0, 0, 0.3));\n",
              "      fill: #FFFFFF;\n",
              "    }\n",
              "  </style>\n",
              "\n",
              "      <script>\n",
              "        const buttonEl =\n",
              "          document.querySelector('#df-8ae32104-9dcd-41f7-801c-e64d381741e8 button.colab-df-convert');\n",
              "        buttonEl.style.display =\n",
              "          google.colab.kernel.accessAllowed ? 'block' : 'none';\n",
              "\n",
              "        async function convertToInteractive(key) {\n",
              "          const element = document.querySelector('#df-8ae32104-9dcd-41f7-801c-e64d381741e8');\n",
              "          const dataTable =\n",
              "            await google.colab.kernel.invokeFunction('convertToInteractive',\n",
              "                                                     [key], {});\n",
              "          if (!dataTable) return;\n",
              "\n",
              "          const docLinkHtml = 'Like what you see? Visit the ' +\n",
              "            '<a target=\"_blank\" href=https://colab.research.google.com/notebooks/data_table.ipynb>data table notebook</a>'\n",
              "            + ' to learn more about interactive tables.';\n",
              "          element.innerHTML = '';\n",
              "          dataTable['output_type'] = 'display_data';\n",
              "          await google.colab.output.renderOutput(dataTable, element);\n",
              "          const docLink = document.createElement('div');\n",
              "          docLink.innerHTML = docLinkHtml;\n",
              "          element.appendChild(docLink);\n",
              "        }\n",
              "      </script>\n",
              "    </div>\n",
              "  </div>\n",
              "  "
            ]
          },
          "metadata": {},
          "execution_count": 7
        }
      ]
    },
    {
      "cell_type": "markdown",
      "source": [
        "# Exploratory Data Analysis"
      ],
      "metadata": {
        "id": "lvyYU6GGdQsE"
      }
    },
    {
      "cell_type": "code",
      "source": [
        "dataset.head()"
      ],
      "metadata": {
        "execution": {
          "iopub.status.busy": "2021-05-24T12:40:28.878227Z",
          "iopub.execute_input": "2021-05-24T12:40:28.878632Z",
          "iopub.status.idle": "2021-05-24T12:40:28.894296Z",
          "shell.execute_reply.started": "2021-05-24T12:40:28.878597Z",
          "shell.execute_reply": "2021-05-24T12:40:28.893496Z"
        },
        "trusted": true,
        "id": "wulg5yKcdQsE",
        "colab": {
          "base_uri": "https://localhost:8080/",
          "height": 270
        },
        "outputId": "2b2e20ae-6b91-455c-8766-3fce68a7d0fb"
      },
      "execution_count": 8,
      "outputs": [
        {
          "output_type": "execute_result",
          "data": {
            "text/plain": [
              "   ID Warehouse_block Mode_of_Shipment  Customer_care_calls  Customer_rating  \\\n",
              "0   1               D           Flight                    4                2   \n",
              "1   2               F           Flight                    4                5   \n",
              "2   3               A           Flight                    2                2   \n",
              "3   4               B           Flight                    3                3   \n",
              "4   5               C           Flight                    2                2   \n",
              "\n",
              "   Cost_of_the_Product  Prior_purchases Product_importance Gender  \\\n",
              "0                  177                3                low      F   \n",
              "1                  216                2                low      M   \n",
              "2                  183                4                low      M   \n",
              "3                  176                4             medium      M   \n",
              "4                  184                3             medium      F   \n",
              "\n",
              "   Discount_offered  Weight_in_gms  Reached.on.Time_Y.N  \n",
              "0                44           1233                    1  \n",
              "1                59           3088                    1  \n",
              "2                48           3374                    1  \n",
              "3                10           1177                    1  \n",
              "4                46           2484                    1  "
            ],
            "text/html": [
              "\n",
              "  <div id=\"df-59e47d99-b6c5-43c6-963a-bbbb05a640bf\">\n",
              "    <div class=\"colab-df-container\">\n",
              "      <div>\n",
              "<style scoped>\n",
              "    .dataframe tbody tr th:only-of-type {\n",
              "        vertical-align: middle;\n",
              "    }\n",
              "\n",
              "    .dataframe tbody tr th {\n",
              "        vertical-align: top;\n",
              "    }\n",
              "\n",
              "    .dataframe thead th {\n",
              "        text-align: right;\n",
              "    }\n",
              "</style>\n",
              "<table border=\"1\" class=\"dataframe\">\n",
              "  <thead>\n",
              "    <tr style=\"text-align: right;\">\n",
              "      <th></th>\n",
              "      <th>ID</th>\n",
              "      <th>Warehouse_block</th>\n",
              "      <th>Mode_of_Shipment</th>\n",
              "      <th>Customer_care_calls</th>\n",
              "      <th>Customer_rating</th>\n",
              "      <th>Cost_of_the_Product</th>\n",
              "      <th>Prior_purchases</th>\n",
              "      <th>Product_importance</th>\n",
              "      <th>Gender</th>\n",
              "      <th>Discount_offered</th>\n",
              "      <th>Weight_in_gms</th>\n",
              "      <th>Reached.on.Time_Y.N</th>\n",
              "    </tr>\n",
              "  </thead>\n",
              "  <tbody>\n",
              "    <tr>\n",
              "      <th>0</th>\n",
              "      <td>1</td>\n",
              "      <td>D</td>\n",
              "      <td>Flight</td>\n",
              "      <td>4</td>\n",
              "      <td>2</td>\n",
              "      <td>177</td>\n",
              "      <td>3</td>\n",
              "      <td>low</td>\n",
              "      <td>F</td>\n",
              "      <td>44</td>\n",
              "      <td>1233</td>\n",
              "      <td>1</td>\n",
              "    </tr>\n",
              "    <tr>\n",
              "      <th>1</th>\n",
              "      <td>2</td>\n",
              "      <td>F</td>\n",
              "      <td>Flight</td>\n",
              "      <td>4</td>\n",
              "      <td>5</td>\n",
              "      <td>216</td>\n",
              "      <td>2</td>\n",
              "      <td>low</td>\n",
              "      <td>M</td>\n",
              "      <td>59</td>\n",
              "      <td>3088</td>\n",
              "      <td>1</td>\n",
              "    </tr>\n",
              "    <tr>\n",
              "      <th>2</th>\n",
              "      <td>3</td>\n",
              "      <td>A</td>\n",
              "      <td>Flight</td>\n",
              "      <td>2</td>\n",
              "      <td>2</td>\n",
              "      <td>183</td>\n",
              "      <td>4</td>\n",
              "      <td>low</td>\n",
              "      <td>M</td>\n",
              "      <td>48</td>\n",
              "      <td>3374</td>\n",
              "      <td>1</td>\n",
              "    </tr>\n",
              "    <tr>\n",
              "      <th>3</th>\n",
              "      <td>4</td>\n",
              "      <td>B</td>\n",
              "      <td>Flight</td>\n",
              "      <td>3</td>\n",
              "      <td>3</td>\n",
              "      <td>176</td>\n",
              "      <td>4</td>\n",
              "      <td>medium</td>\n",
              "      <td>M</td>\n",
              "      <td>10</td>\n",
              "      <td>1177</td>\n",
              "      <td>1</td>\n",
              "    </tr>\n",
              "    <tr>\n",
              "      <th>4</th>\n",
              "      <td>5</td>\n",
              "      <td>C</td>\n",
              "      <td>Flight</td>\n",
              "      <td>2</td>\n",
              "      <td>2</td>\n",
              "      <td>184</td>\n",
              "      <td>3</td>\n",
              "      <td>medium</td>\n",
              "      <td>F</td>\n",
              "      <td>46</td>\n",
              "      <td>2484</td>\n",
              "      <td>1</td>\n",
              "    </tr>\n",
              "  </tbody>\n",
              "</table>\n",
              "</div>\n",
              "      <button class=\"colab-df-convert\" onclick=\"convertToInteractive('df-59e47d99-b6c5-43c6-963a-bbbb05a640bf')\"\n",
              "              title=\"Convert this dataframe to an interactive table.\"\n",
              "              style=\"display:none;\">\n",
              "        \n",
              "  <svg xmlns=\"http://www.w3.org/2000/svg\" height=\"24px\"viewBox=\"0 0 24 24\"\n",
              "       width=\"24px\">\n",
              "    <path d=\"M0 0h24v24H0V0z\" fill=\"none\"/>\n",
              "    <path d=\"M18.56 5.44l.94 2.06.94-2.06 2.06-.94-2.06-.94-.94-2.06-.94 2.06-2.06.94zm-11 1L8.5 8.5l.94-2.06 2.06-.94-2.06-.94L8.5 2.5l-.94 2.06-2.06.94zm10 10l.94 2.06.94-2.06 2.06-.94-2.06-.94-.94-2.06-.94 2.06-2.06.94z\"/><path d=\"M17.41 7.96l-1.37-1.37c-.4-.4-.92-.59-1.43-.59-.52 0-1.04.2-1.43.59L10.3 9.45l-7.72 7.72c-.78.78-.78 2.05 0 2.83L4 21.41c.39.39.9.59 1.41.59.51 0 1.02-.2 1.41-.59l7.78-7.78 2.81-2.81c.8-.78.8-2.07 0-2.86zM5.41 20L4 18.59l7.72-7.72 1.47 1.35L5.41 20z\"/>\n",
              "  </svg>\n",
              "      </button>\n",
              "      \n",
              "  <style>\n",
              "    .colab-df-container {\n",
              "      display:flex;\n",
              "      flex-wrap:wrap;\n",
              "      gap: 12px;\n",
              "    }\n",
              "\n",
              "    .colab-df-convert {\n",
              "      background-color: #E8F0FE;\n",
              "      border: none;\n",
              "      border-radius: 50%;\n",
              "      cursor: pointer;\n",
              "      display: none;\n",
              "      fill: #1967D2;\n",
              "      height: 32px;\n",
              "      padding: 0 0 0 0;\n",
              "      width: 32px;\n",
              "    }\n",
              "\n",
              "    .colab-df-convert:hover {\n",
              "      background-color: #E2EBFA;\n",
              "      box-shadow: 0px 1px 2px rgba(60, 64, 67, 0.3), 0px 1px 3px 1px rgba(60, 64, 67, 0.15);\n",
              "      fill: #174EA6;\n",
              "    }\n",
              "\n",
              "    [theme=dark] .colab-df-convert {\n",
              "      background-color: #3B4455;\n",
              "      fill: #D2E3FC;\n",
              "    }\n",
              "\n",
              "    [theme=dark] .colab-df-convert:hover {\n",
              "      background-color: #434B5C;\n",
              "      box-shadow: 0px 1px 3px 1px rgba(0, 0, 0, 0.15);\n",
              "      filter: drop-shadow(0px 1px 2px rgba(0, 0, 0, 0.3));\n",
              "      fill: #FFFFFF;\n",
              "    }\n",
              "  </style>\n",
              "\n",
              "      <script>\n",
              "        const buttonEl =\n",
              "          document.querySelector('#df-59e47d99-b6c5-43c6-963a-bbbb05a640bf button.colab-df-convert');\n",
              "        buttonEl.style.display =\n",
              "          google.colab.kernel.accessAllowed ? 'block' : 'none';\n",
              "\n",
              "        async function convertToInteractive(key) {\n",
              "          const element = document.querySelector('#df-59e47d99-b6c5-43c6-963a-bbbb05a640bf');\n",
              "          const dataTable =\n",
              "            await google.colab.kernel.invokeFunction('convertToInteractive',\n",
              "                                                     [key], {});\n",
              "          if (!dataTable) return;\n",
              "\n",
              "          const docLinkHtml = 'Like what you see? Visit the ' +\n",
              "            '<a target=\"_blank\" href=https://colab.research.google.com/notebooks/data_table.ipynb>data table notebook</a>'\n",
              "            + ' to learn more about interactive tables.';\n",
              "          element.innerHTML = '';\n",
              "          dataTable['output_type'] = 'display_data';\n",
              "          await google.colab.output.renderOutput(dataTable, element);\n",
              "          const docLink = document.createElement('div');\n",
              "          docLink.innerHTML = docLinkHtml;\n",
              "          element.appendChild(docLink);\n",
              "        }\n",
              "      </script>\n",
              "    </div>\n",
              "  </div>\n",
              "  "
            ]
          },
          "metadata": {},
          "execution_count": 8
        }
      ]
    },
    {
      "cell_type": "code",
      "source": [
        "delay=pd.DataFrame(dataset.groupby(['Reached.on.Time_Y.N'])['ID'].count()/len(dataset)).reset_index()\n",
        "plt.pie(delay['ID'],labels=delay['Reached.on.Time_Y.N'],autopct='%1.2f%%')"
      ],
      "metadata": {
        "execution": {
          "iopub.status.busy": "2021-05-24T12:40:28.895662Z",
          "iopub.execute_input": "2021-05-24T12:40:28.89598Z",
          "iopub.status.idle": "2021-05-24T12:40:29.214455Z",
          "shell.execute_reply.started": "2021-05-24T12:40:28.895951Z",
          "shell.execute_reply": "2021-05-24T12:40:29.213104Z"
        },
        "trusted": true,
        "id": "HTaxOoWYdQsE",
        "colab": {
          "base_uri": "https://localhost:8080/",
          "height": 352
        },
        "outputId": "818145a4-72aa-4def-8586-f98beb703e6a"
      },
      "execution_count": 9,
      "outputs": [
        {
          "output_type": "execute_result",
          "data": {
            "text/plain": [
              "([<matplotlib.patches.Wedge at 0x7fae57acb390>,\n",
              "  <matplotlib.patches.Wedge at 0x7fae57acba10>],\n",
              " [Text(0.32902377754583456, 1.0496396304491695, '0'),\n",
              "  Text(-0.32902377754583423, -1.0496396304491697, '1')],\n",
              " [Text(0.17946751502500063, 0.5725307075177288, '40.33%'),\n",
              "  Text(-0.17946751502500047, -0.5725307075177288, '59.67%')])"
            ]
          },
          "metadata": {},
          "execution_count": 9
        },
        {
          "output_type": "display_data",
          "data": {
            "text/plain": [
              "<Figure size 432x288 with 1 Axes>"
            ],
            "image/png": "[encoded data removed]"
          },
          "metadata": {}
        }
      ]
    },
    {
      "cell_type": "markdown",
      "source": [
        "**Observations:**\n",
        "* 40% of the total deliveries are not reached on time"
      ],
      "metadata": {
        "id": "xSYz3hcidQsF"
      }
    },
    {
      "cell_type": "markdown",
      "source": [],
      "metadata": {
        "id": "gmpnpiYGdQsF"
      }
    },
    {
      "cell_type": "code",
      "source": [
        "data_v1 = dataset[dataset['Reached.on.Time_Y.N']==0]"
      ],
      "metadata": {
        "execution": {
          "iopub.status.busy": "2021-05-24T12:40:29.217154Z",
          "iopub.execute_input": "2021-05-24T12:40:29.217427Z",
          "iopub.status.idle": "2021-05-24T12:40:29.227163Z",
          "shell.execute_reply.started": "2021-05-24T12:40:29.2174Z",
          "shell.execute_reply": "2021-05-24T12:40:29.225962Z"
        },
        "trusted": true,
        "id": "wlvf58SmdQsF"
      },
      "execution_count": 10,
      "outputs": []
    },
    {
      "cell_type": "code",
      "source": [
        "data_v2=pd.DataFrame((data_v1.groupby(['Mode_of_Shipment'])['ID'].count())/len(data_v1)*100)\n",
        "data_v2=data_v2.reset_index()\n",
        "visual=sns.barplot(x=\"Mode_of_Shipment\", y=\"ID\", data=data_v2 )\n",
        "for index, row in data_v2.iterrows():\n",
        "    visual.text(row.name,row.ID, round(row.ID,2), color='black', ha=\"center\")\n",
        "plt.title('Total number of delayed deliveries vs Shipment mode')\n",
        "plt.ylabel('percentage')"
      ],
      "metadata": {
        "execution": {
          "iopub.status.busy": "2021-05-24T12:40:29.22986Z",
          "iopub.execute_input": "2021-05-24T12:40:29.230201Z",
          "iopub.status.idle": "2021-05-24T12:40:29.397701Z",
          "shell.execute_reply.started": "2021-05-24T12:40:29.230171Z",
          "shell.execute_reply": "2021-05-24T12:40:29.396509Z"
        },
        "trusted": true,
        "id": "HH-IpL7JdQsF",
        "colab": {
          "base_uri": "https://localhost:8080/",
          "height": 313
        },
        "outputId": "c83188ef-9661-4890-e4d7-5eb1267439c5"
      },
      "execution_count": 11,
      "outputs": [
        {
          "output_type": "execute_result",
          "data": {
            "text/plain": [
              "Text(0, 0.5, 'percentage')"
            ]
          },
          "metadata": {},
          "execution_count": 11
        },
        {
          "output_type": "display_data",
          "data": {
            "text/plain": [
              "<Figure size 432x288 with 1 Axes>"
            ],
            "image/png": "[encoded data removed]"
          },
          "metadata": {
            "needs_background": "light"
          }
        }
      ]
    },
    {
      "cell_type": "markdown",
      "source": [
        "**Observations:**\n",
        "* Around 68% of the delayed deliveries are caused when ships are used as a mode of shipments. So, Alternate options like Flight and Road services might be considered to reduce the delayed deliveries "
      ],
      "metadata": {
        "id": "X3VFuBDcdQsF"
      }
    },
    {
      "cell_type": "code",
      "source": [
        "data_v3=pd.DataFrame((data_v1.groupby(['Warehouse_block'])['ID'].count())/len(data_v1)*100)\n",
        "data_v3=data_v3.reset_index()\n",
        "visual=sns.barplot(x=\"Warehouse_block\", y=\"ID\", data=data_v3 )\n",
        "for index, row in data_v3.iterrows():\n",
        "    visual.text(row.name,row.ID, round(row.ID,2), color='black', ha=\"center\")\n",
        "plt.title('Total number of delayed deliveries vs Warehouse block')\n",
        "plt.ylabel('percentage')"
      ],
      "metadata": {
        "execution": {
          "iopub.status.busy": "2021-05-24T12:40:29.399023Z",
          "iopub.execute_input": "2021-05-24T12:40:29.399349Z",
          "iopub.status.idle": "2021-05-24T12:40:29.567714Z",
          "shell.execute_reply.started": "2021-05-24T12:40:29.399315Z",
          "shell.execute_reply": "2021-05-24T12:40:29.566654Z"
        },
        "trusted": true,
        "id": "KrWMNEKadQsF",
        "colab": {
          "base_uri": "https://localhost:8080/",
          "height": 313
        },
        "outputId": "097a4850-01d9-44af-ae1d-36a13cad068c"
      },
      "execution_count": 12,
      "outputs": [
        {
          "output_type": "execute_result",
          "data": {
            "text/plain": [
              "Text(0, 0.5, 'percentage')"
            ]
          },
          "metadata": {},
          "execution_count": 12
        },
        {
          "output_type": "display_data",
          "data": {
            "text/plain": [
              "<Figure size 432x288 with 1 Axes>"
            ],
            "image/png": "[encoded data removed]"
          },
          "metadata": {
            "needs_background": "light"
          }
        }
      ]
    },
    {
      "cell_type": "markdown",
      "source": [
        "**Observations**\n",
        "* Higher percent of delayed deliveries are recorded in Warehouse block F. For rest of the block,the percent of delayed deliveries are almost consistent"
      ],
      "metadata": {
        "id": "x2tY2Li8dQsF"
      }
    },
    {
      "cell_type": "code",
      "source": [
        "data_v4=pd.DataFrame((dataset.groupby(['Customer_rating'])['ID'].count())/len(dataset)*100)\n",
        "data_v4=data_v4.reset_index()\n",
        "visual=sns.barplot(x=\"Customer_rating\", y=\"ID\", data=data_v4 )\n",
        "for index, row in data_v4.iterrows():\n",
        "    visual.text(row.name,row.ID, round(row.ID,2), color='black', ha=\"center\")\n",
        "plt.title('Total percentages of different ratings')\n",
        "plt.ylabel('percentage')"
      ],
      "metadata": {
        "execution": {
          "iopub.status.busy": "2021-05-24T12:40:29.569279Z",
          "iopub.execute_input": "2021-05-24T12:40:29.569938Z",
          "iopub.status.idle": "2021-05-24T12:40:29.754885Z",
          "shell.execute_reply.started": "2021-05-24T12:40:29.569888Z",
          "shell.execute_reply": "2021-05-24T12:40:29.753823Z"
        },
        "trusted": true,
        "id": "6CWI8u25dQsG",
        "colab": {
          "base_uri": "https://localhost:8080/",
          "height": 313
        },
        "outputId": "59800c9c-6781-4e58-ae98-62ee954e0bb9"
      },
      "execution_count": 13,
      "outputs": [
        {
          "output_type": "execute_result",
          "data": {
            "text/plain": [
              "Text(0, 0.5, 'percentage')"
            ]
          },
          "metadata": {},
          "execution_count": 13
        },
        {
          "output_type": "display_data",
          "data": {
            "text/plain": [
              "<Figure size 432x288 with 1 Axes>"
            ],
            "image/png": "[encoded data removed]"
          },
          "metadata": {
            "needs_background": "light"
          }
        }
      ]
    },
    {
      "cell_type": "markdown",
      "source": [
        "**Observations:**\n",
        "* The percentage of different ratings given by customers seems to same. Almost 20% of the total deliveries received 5 ratings"
      ],
      "metadata": {
        "id": "5MTgl7fedQsG"
      }
    },
    {
      "cell_type": "markdown",
      "source": [],
      "metadata": {
        "id": "FkAuxMWhdQsG"
      }
    },
    {
      "cell_type": "code",
      "source": [
        "sns.countplot(x = \"Product_importance\", data = dataset, hue=\"Reached.on.Time_Y.N\")\n",
        "plt.title(\"Product importance by Reached on Time or Not\")"
      ],
      "metadata": {
        "execution": {
          "iopub.status.busy": "2021-05-24T12:40:29.756516Z",
          "iopub.execute_input": "2021-05-24T12:40:29.757179Z",
          "iopub.status.idle": "2021-05-24T12:40:29.937519Z",
          "shell.execute_reply.started": "2021-05-24T12:40:29.757123Z",
          "shell.execute_reply": "2021-05-24T12:40:29.936737Z"
        },
        "trusted": true,
        "id": "vkYDu6b3dQsG",
        "colab": {
          "base_uri": "https://localhost:8080/",
          "height": 313
        },
        "outputId": "b8fa93d7-1c95-4ab9-e953-1c6f7784e1d2"
      },
      "execution_count": 14,
      "outputs": [
        {
          "output_type": "execute_result",
          "data": {
            "text/plain": [
              "Text(0.5, 1.0, 'Product importance by Reached on Time or Not')"
            ]
          },
          "metadata": {},
          "execution_count": 14
        },
        {
          "output_type": "display_data",
          "data": {
            "text/plain": [
              "<Figure size 432x288 with 1 Axes>"
            ],
            "image/png": "[encoded data removed]"
          },
          "metadata": {
            "needs_background": "light"
          }
        }
      ]
    },
    {
      "cell_type": "markdown",
      "source": [
        "**Observations:**\n",
        "* Higher number of deliveries falls under low product importance. Very less number of highly important products delivered. It means customers are ordering more number of low importance products from this ecommerce group"
      ],
      "metadata": {
        "id": "AgJtMxvsdQsG"
      }
    },
    {
      "cell_type": "code",
      "source": [
        "sns.countplot(x = \"Gender\", data = dataset, hue=\"Reached.on.Time_Y.N\")\n",
        "plt.title(\"Gender by Reached on Time or Not\")"
      ],
      "metadata": {
        "execution": {
          "iopub.status.busy": "2021-05-24T12:40:29.938841Z",
          "iopub.execute_input": "2021-05-24T12:40:29.939216Z",
          "iopub.status.idle": "2021-05-24T12:40:30.103188Z",
          "shell.execute_reply.started": "2021-05-24T12:40:29.939182Z",
          "shell.execute_reply": "2021-05-24T12:40:30.102475Z"
        },
        "trusted": true,
        "id": "5nQAEet4dQsG",
        "colab": {
          "base_uri": "https://localhost:8080/",
          "height": 312
        },
        "outputId": "7419c0da-8866-4c88-a35f-ca07741cdb4b"
      },
      "execution_count": 15,
      "outputs": [
        {
          "output_type": "execute_result",
          "data": {
            "text/plain": [
              "Text(0.5, 1.0, 'Gender by Reached on Time or Not')"
            ]
          },
          "metadata": {},
          "execution_count": 15
        },
        {
          "output_type": "display_data",
          "data": {
            "text/plain": [
              "<Figure size 432x288 with 1 Axes>"
            ],
            "image/png": "[encoded data removed]"
          },
          "metadata": {
            "needs_background": "light"
          }
        }
      ]
    },
    {
      "cell_type": "code",
      "source": [
        "sns.countplot(x = \"Warehouse_block\", data = dataset, hue=\"Reached.on.Time_Y.N\")\n",
        "plt.title(\"Warehouse block vs on Time or Not\")"
      ],
      "metadata": {
        "execution": {
          "iopub.status.busy": "2021-05-24T12:40:30.104216Z",
          "iopub.execute_input": "2021-05-24T12:40:30.104623Z",
          "iopub.status.idle": "2021-05-24T12:40:30.292912Z",
          "shell.execute_reply.started": "2021-05-24T12:40:30.104594Z",
          "shell.execute_reply": "2021-05-24T12:40:30.292063Z"
        },
        "trusted": true,
        "id": "PpnBbEhNdQsH",
        "colab": {
          "base_uri": "https://localhost:8080/",
          "height": 313
        },
        "outputId": "7f8c76dc-df09-4502-ad61-090cb0686684"
      },
      "execution_count": 16,
      "outputs": [
        {
          "output_type": "execute_result",
          "data": {
            "text/plain": [
              "Text(0.5, 1.0, 'Warehouse block vs on Time or Not')"
            ]
          },
          "metadata": {},
          "execution_count": 16
        },
        {
          "output_type": "display_data",
          "data": {
            "text/plain": [
              "<Figure size 432x288 with 1 Axes>"
            ],
            "image/png": "[encoded data removed]"
          },
          "metadata": {
            "needs_background": "light"
          }
        }
      ]
    },
    {
      "cell_type": "markdown",
      "source": [
        "**Observations:**\n",
        "* More number of deliveries were from Ware house block 'F'\n",
        "* For rest of the blocks, the pattern remains same"
      ],
      "metadata": {
        "id": "-7NRMh08dQsH"
      }
    },
    {
      "cell_type": "code",
      "source": [
        "sns.countplot(x = \"Customer_rating\", data = dataset, hue=\"Gender\")\n",
        "plt.title(\"Customer ratings by Gender\")"
      ],
      "metadata": {
        "execution": {
          "iopub.status.busy": "2021-05-24T12:40:30.294007Z",
          "iopub.execute_input": "2021-05-24T12:40:30.294456Z",
          "iopub.status.idle": "2021-05-24T12:40:30.487265Z",
          "shell.execute_reply.started": "2021-05-24T12:40:30.294424Z",
          "shell.execute_reply": "2021-05-24T12:40:30.486491Z"
        },
        "trusted": true,
        "id": "_j-QOpV9dQsH",
        "colab": {
          "base_uri": "https://localhost:8080/",
          "height": 313
        },
        "outputId": "997914bf-e371-4a6c-a453-ea51673d8f1a"
      },
      "execution_count": 17,
      "outputs": [
        {
          "output_type": "execute_result",
          "data": {
            "text/plain": [
              "Text(0.5, 1.0, 'Customer ratings by Gender')"
            ]
          },
          "metadata": {},
          "execution_count": 17
        },
        {
          "output_type": "display_data",
          "data": {
            "text/plain": [
              "<Figure size 432x288 with 1 Axes>"
            ],
            "image/png": "[encoded data removed]"
          },
          "metadata": {
            "needs_background": "light"
          }
        }
      ]
    },
    {
      "cell_type": "code",
      "source": [
        "sns.boxplot(x='Gender',y='Cost_of_the_Product',data=dataset,hue='Gender')\n",
        "plt.title(\"Amount spent by each Gender\")"
      ],
      "metadata": {
        "execution": {
          "iopub.status.busy": "2021-05-24T12:40:30.488307Z",
          "iopub.execute_input": "2021-05-24T12:40:30.488698Z",
          "iopub.status.idle": "2021-05-24T12:40:30.694327Z",
          "shell.execute_reply.started": "2021-05-24T12:40:30.488657Z",
          "shell.execute_reply": "2021-05-24T12:40:30.693668Z"
        },
        "trusted": true,
        "id": "pgUCT9vWdQsH",
        "colab": {
          "base_uri": "https://localhost:8080/",
          "height": 312
        },
        "outputId": "fe944517-0bfa-4406-ab4a-31b1d1d361b6"
      },
      "execution_count": 18,
      "outputs": [
        {
          "output_type": "execute_result",
          "data": {
            "text/plain": [
              "Text(0.5, 1.0, 'Amount spent by each Gender')"
            ]
          },
          "metadata": {},
          "execution_count": 18
        },
        {
          "output_type": "display_data",
          "data": {
            "text/plain": [
              "<Figure size 432x288 with 1 Axes>"
            ],
            "image/png": "[encoded data removed]"
          },
          "metadata": {
            "needs_background": "light"
          }
        }
      ]
    },
    {
      "cell_type": "markdown",
      "source": [
        "**Observations**\n",
        "* Both men and women seems to spend same level of amount on average while purchasing a product "
      ],
      "metadata": {
        "id": "NRyYuqsKdQsH"
      }
    },
    {
      "cell_type": "code",
      "source": [
        "dataset.groupby(['Product_importance'])['Cost_of_the_Product'].mean().plot.bar()\n",
        "plt.title(\"Average cost of products of different importance\")"
      ],
      "metadata": {
        "execution": {
          "iopub.status.busy": "2021-05-24T12:40:30.695326Z",
          "iopub.execute_input": "2021-05-24T12:40:30.695725Z",
          "iopub.status.idle": "2021-05-24T12:40:30.868947Z",
          "shell.execute_reply.started": "2021-05-24T12:40:30.695668Z",
          "shell.execute_reply": "2021-05-24T12:40:30.867731Z"
        },
        "trusted": true,
        "id": "gukwoqJ6dQsH",
        "colab": {
          "base_uri": "https://localhost:8080/",
          "height": 344
        },
        "outputId": "804306f4-cb7d-4ca1-e3ad-583e61dea399"
      },
      "execution_count": 19,
      "outputs": [
        {
          "output_type": "execute_result",
          "data": {
            "text/plain": [
              "Text(0.5, 1.0, 'Average cost of products of different importance')"
            ]
          },
          "metadata": {},
          "execution_count": 19
        },
        {
          "output_type": "display_data",
          "data": {
            "text/plain": [
              "<Figure size 432x288 with 1 Axes>"
            ],
            "image/png": "[encoded data removed]"
          },
          "metadata": {
            "needs_background": "light"
          }
        }
      ]
    },
    {
      "cell_type": "markdown",
      "source": [
        "**Observations:**\n",
        "* The average value of higher importance is slightly lesser than both low and high importance products. So, the product importance is not assigned based on the monetory value\n",
        "* Overall there isnt much variation in the features"
      ],
      "metadata": {
        "id": "zI7AQFZsdQsH"
      }
    },
    {
      "cell_type": "code",
      "source": [
        "dataset.head()"
      ],
      "metadata": {
        "execution": {
          "iopub.status.busy": "2021-05-24T12:40:30.870594Z",
          "iopub.execute_input": "2021-05-24T12:40:30.87121Z",
          "iopub.status.idle": "2021-05-24T12:40:30.888022Z",
          "shell.execute_reply.started": "2021-05-24T12:40:30.871161Z",
          "shell.execute_reply": "2021-05-24T12:40:30.886879Z"
        },
        "trusted": true,
        "id": "oa63ikG-dQsH",
        "colab": {
          "base_uri": "https://localhost:8080/",
          "height": 270
        },
        "outputId": "d8e514c8-bbd9-4277-b666-8043823275ae"
      },
      "execution_count": 20,
      "outputs": [
        {
          "output_type": "execute_result",
          "data": {
            "text/plain": [
              "   ID Warehouse_block Mode_of_Shipment  Customer_care_calls  Customer_rating  \\\n",
              "0   1               D           Flight                    4                2   \n",
              "1   2               F           Flight                    4                5   \n",
              "2   3               A           Flight                    2                2   \n",
              "3   4               B           Flight                    3                3   \n",
              "4   5               C           Flight                    2                2   \n",
              "\n",
              "   Cost_of_the_Product  Prior_purchases Product_importance Gender  \\\n",
              "0                  177                3                low      F   \n",
              "1                  216                2                low      M   \n",
              "2                  183                4                low      M   \n",
              "3                  176                4             medium      M   \n",
              "4                  184                3             medium      F   \n",
              "\n",
              "   Discount_offered  Weight_in_gms  Reached.on.Time_Y.N  \n",
              "0                44           1233                    1  \n",
              "1                59           3088                    1  \n",
              "2                48           3374                    1  \n",
              "3                10           1177                    1  \n",
              "4                46           2484                    1  "
            ],
            "text/html": [
              "\n",
              "  <div id=\"df-47fa79bd-f8c5-419a-a363-ad5195f5f6b5\">\n",
              "    <div class=\"colab-df-container\">\n",
              "      <div>\n",
              "<style scoped>\n",
              "    .dataframe tbody tr th:only-of-type {\n",
              "        vertical-align: middle;\n",
              "    }\n",
              "\n",
              "    .dataframe tbody tr th {\n",
              "        vertical-align: top;\n",
              "    }\n",
              "\n",
              "    .dataframe thead th {\n",
              "        text-align: right;\n",
              "    }\n",
              "</style>\n",
              "<table border=\"1\" class=\"dataframe\">\n",
              "  <thead>\n",
              "    <tr style=\"text-align: right;\">\n",
              "      <th></th>\n",
              "      <th>ID</th>\n",
              "      <th>Warehouse_block</th>\n",
              "      <th>Mode_of_Shipment</th>\n",
              "      <th>Customer_care_calls</th>\n",
              "      <th>Customer_rating</th>\n",
              "      <th>Cost_of_the_Product</th>\n",
              "      <th>Prior_purchases</th>\n",
              "      <th>Product_importance</th>\n",
              "      <th>Gender</th>\n",
              "      <th>Discount_offered</th>\n",
              "      <th>Weight_in_gms</th>\n",
              "      <th>Reached.on.Time_Y.N</th>\n",
              "    </tr>\n",
              "  </thead>\n",
              "  <tbody>\n",
              "    <tr>\n",
              "      <th>0</th>\n",
              "      <td>1</td>\n",
              "      <td>D</td>\n",
              "      <td>Flight</td>\n",
              "      <td>4</td>\n",
              "      <td>2</td>\n",
              "      <td>177</td>\n",
              "      <td>3</td>\n",
              "      <td>low</td>\n",
              "      <td>F</td>\n",
              "      <td>44</td>\n",
              "      <td>1233</td>\n",
              "      <td>1</td>\n",
              "    </tr>\n",
              "    <tr>\n",
              "      <th>1</th>\n",
              "      <td>2</td>\n",
              "      <td>F</td>\n",
              "      <td>Flight</td>\n",
              "      <td>4</td>\n",
              "      <td>5</td>\n",
              "      <td>216</td>\n",
              "      <td>2</td>\n",
              "      <td>low</td>\n",
              "      <td>M</td>\n",
              "      <td>59</td>\n",
              "      <td>3088</td>\n",
              "      <td>1</td>\n",
              "    </tr>\n",
              "    <tr>\n",
              "      <th>2</th>\n",
              "      <td>3</td>\n",
              "      <td>A</td>\n",
              "      <td>Flight</td>\n",
              "      <td>2</td>\n",
              "      <td>2</td>\n",
              "      <td>183</td>\n",
              "      <td>4</td>\n",
              "      <td>low</td>\n",
              "      <td>M</td>\n",
              "      <td>48</td>\n",
              "      <td>3374</td>\n",
              "      <td>1</td>\n",
              "    </tr>\n",
              "    <tr>\n",
              "      <th>3</th>\n",
              "      <td>4</td>\n",
              "      <td>B</td>\n",
              "      <td>Flight</td>\n",
              "      <td>3</td>\n",
              "      <td>3</td>\n",
              "      <td>176</td>\n",
              "      <td>4</td>\n",
              "      <td>medium</td>\n",
              "      <td>M</td>\n",
              "      <td>10</td>\n",
              "      <td>1177</td>\n",
              "      <td>1</td>\n",
              "    </tr>\n",
              "    <tr>\n",
              "      <th>4</th>\n",
              "      <td>5</td>\n",
              "      <td>C</td>\n",
              "      <td>Flight</td>\n",
              "      <td>2</td>\n",
              "      <td>2</td>\n",
              "      <td>184</td>\n",
              "      <td>3</td>\n",
              "      <td>medium</td>\n",
              "      <td>F</td>\n",
              "      <td>46</td>\n",
              "      <td>2484</td>\n",
              "      <td>1</td>\n",
              "    </tr>\n",
              "  </tbody>\n",
              "</table>\n",
              "</div>\n",
              "      <button class=\"colab-df-convert\" onclick=\"convertToInteractive('df-47fa79bd-f8c5-419a-a363-ad5195f5f6b5')\"\n",
              "              title=\"Convert this dataframe to an interactive table.\"\n",
              "              style=\"display:none;\">\n",
              "        \n",
              "  <svg xmlns=\"http://www.w3.org/2000/svg\" height=\"24px\"viewBox=\"0 0 24 24\"\n",
              "       width=\"24px\">\n",
              "    <path d=\"M0 0h24v24H0V0z\" fill=\"none\"/>\n",
              "    <path d=\"M18.56 5.44l.94 2.06.94-2.06 2.06-.94-2.06-.94-.94-2.06-.94 2.06-2.06.94zm-11 1L8.5 8.5l.94-2.06 2.06-.94-2.06-.94L8.5 2.5l-.94 2.06-2.06.94zm10 10l.94 2.06.94-2.06 2.06-.94-2.06-.94-.94-2.06-.94 2.06-2.06.94z\"/><path d=\"M17.41 7.96l-1.37-1.37c-.4-.4-.92-.59-1.43-.59-.52 0-1.04.2-1.43.59L10.3 9.45l-7.72 7.72c-.78.78-.78 2.05 0 2.83L4 21.41c.39.39.9.59 1.41.59.51 0 1.02-.2 1.41-.59l7.78-7.78 2.81-2.81c.8-.78.8-2.07 0-2.86zM5.41 20L4 18.59l7.72-7.72 1.47 1.35L5.41 20z\"/>\n",
              "  </svg>\n",
              "      </button>\n",
              "      \n",
              "  <style>\n",
              "    .colab-df-container {\n",
              "      display:flex;\n",
              "      flex-wrap:wrap;\n",
              "      gap: 12px;\n",
              "    }\n",
              "\n",
              "    .colab-df-convert {\n",
              "      background-color: #E8F0FE;\n",
              "      border: none;\n",
              "      border-radius: 50%;\n",
              "      cursor: pointer;\n",
              "      display: none;\n",
              "      fill: #1967D2;\n",
              "      height: 32px;\n",
              "      padding: 0 0 0 0;\n",
              "      width: 32px;\n",
              "    }\n",
              "\n",
              "    .colab-df-convert:hover {\n",
              "      background-color: #E2EBFA;\n",
              "      box-shadow: 0px 1px 2px rgba(60, 64, 67, 0.3), 0px 1px 3px 1px rgba(60, 64, 67, 0.15);\n",
              "      fill: #174EA6;\n",
              "    }\n",
              "\n",
              "    [theme=dark] .colab-df-convert {\n",
              "      background-color: #3B4455;\n",
              "      fill: #D2E3FC;\n",
              "    }\n",
              "\n",
              "    [theme=dark] .colab-df-convert:hover {\n",
              "      background-color: #434B5C;\n",
              "      box-shadow: 0px 1px 3px 1px rgba(0, 0, 0, 0.15);\n",
              "      filter: drop-shadow(0px 1px 2px rgba(0, 0, 0, 0.3));\n",
              "      fill: #FFFFFF;\n",
              "    }\n",
              "  </style>\n",
              "\n",
              "      <script>\n",
              "        const buttonEl =\n",
              "          document.querySelector('#df-47fa79bd-f8c5-419a-a363-ad5195f5f6b5 button.colab-df-convert');\n",
              "        buttonEl.style.display =\n",
              "          google.colab.kernel.accessAllowed ? 'block' : 'none';\n",
              "\n",
              "        async function convertToInteractive(key) {\n",
              "          const element = document.querySelector('#df-47fa79bd-f8c5-419a-a363-ad5195f5f6b5');\n",
              "          const dataTable =\n",
              "            await google.colab.kernel.invokeFunction('convertToInteractive',\n",
              "                                                     [key], {});\n",
              "          if (!dataTable) return;\n",
              "\n",
              "          const docLinkHtml = 'Like what you see? Visit the ' +\n",
              "            '<a target=\"_blank\" href=https://colab.research.google.com/notebooks/data_table.ipynb>data table notebook</a>'\n",
              "            + ' to learn more about interactive tables.';\n",
              "          element.innerHTML = '';\n",
              "          dataTable['output_type'] = 'display_data';\n",
              "          await google.colab.output.renderOutput(dataTable, element);\n",
              "          const docLink = document.createElement('div');\n",
              "          docLink.innerHTML = docLinkHtml;\n",
              "          element.appendChild(docLink);\n",
              "        }\n",
              "      </script>\n",
              "    </div>\n",
              "  </div>\n",
              "  "
            ]
          },
          "metadata": {},
          "execution_count": 20
        }
      ]
    },
    {
      "cell_type": "code",
      "source": [
        "dataset[['Cost_of_the_Product','Prior_purchases','Discount_offered','Weight_in_gms']].hist()\n"
      ],
      "metadata": {
        "execution": {
          "iopub.status.busy": "2021-05-24T12:40:30.889406Z",
          "iopub.execute_input": "2021-05-24T12:40:30.889706Z",
          "iopub.status.idle": "2021-05-24T12:40:31.351363Z",
          "shell.execute_reply.started": "2021-05-24T12:40:30.889664Z",
          "shell.execute_reply": "2021-05-24T12:40:31.35043Z"
        },
        "trusted": true,
        "id": "KRLfVyVrdQsH",
        "colab": {
          "base_uri": "https://localhost:8080/",
          "height": 368
        },
        "outputId": "b4d9ddcc-51d8-4add-8cea-edd7e0498142"
      },
      "execution_count": 21,
      "outputs": [
        {
          "output_type": "execute_result",
          "data": {
            "text/plain": [
              "array([[<matplotlib.axes._subplots.AxesSubplot object at 0x7fae571753d0>,\n",
              "        <matplotlib.axes._subplots.AxesSubplot object at 0x7fae571305d0>],\n",
              "       [<matplotlib.axes._subplots.AxesSubplot object at 0x7fae570e4b90>,\n",
              "        <matplotlib.axes._subplots.AxesSubplot object at 0x7fae570a81d0>]],\n",
              "      dtype=object)"
            ]
          },
          "metadata": {},
          "execution_count": 21
        },
        {
          "output_type": "display_data",
          "data": {
            "text/plain": [
              "<Figure size 432x288 with 4 Axes>"
            ],
            "image/png": "[encoded data removed]"
          },
          "metadata": {
            "needs_background": "light"
          }
        }
      ]
    },
    {
      "cell_type": "markdown",
      "source": [
        "**Observations**\n",
        "* 'Discount_offered' is positively skewed\n",
        "* Even 'prior purchase' is also positively skewed"
      ],
      "metadata": {
        "id": "3OkBqLsAdQsH"
      }
    },
    {
      "cell_type": "code",
      "source": [
        "corr = dataset.corr()\n",
        "sns.heatmap(corr, cmap=\"Blues\", annot=True)"
      ],
      "metadata": {
        "execution": {
          "iopub.status.busy": "2021-05-24T12:40:31.352599Z",
          "iopub.execute_input": "2021-05-24T12:40:31.352932Z",
          "iopub.status.idle": "2021-05-24T12:40:31.921489Z",
          "shell.execute_reply.started": "2021-05-24T12:40:31.352901Z",
          "shell.execute_reply": "2021-05-24T12:40:31.920433Z"
        },
        "trusted": true,
        "id": "5SHm9PFmdQsH",
        "colab": {
          "base_uri": "https://localhost:8080/",
          "height": 382
        },
        "outputId": "e6297734-1e0b-4f8d-c37a-81ee2fe2c6a8"
      },
      "execution_count": 22,
      "outputs": [
        {
          "output_type": "execute_result",
          "data": {
            "text/plain": [
              "<matplotlib.axes._subplots.AxesSubplot at 0x7fae56fa19d0>"
            ]
          },
          "metadata": {},
          "execution_count": 22
        },
        {
          "output_type": "display_data",
          "data": {
            "text/plain": [
              "<Figure size 432x288 with 2 Axes>"
            ],
            "image/png": "[encoded data removed]"
          },
          "metadata": {
            "needs_background": "light"
          }
        }
      ]
    },
    {
      "cell_type": "markdown",
      "source": [
        "**Observations:**\n",
        "*  There is a slight positive correlation between 'cost of products' and 'customer care calls'"
      ],
      "metadata": {
        "id": "Wum-lZkHdQsI"
      }
    },
    {
      "cell_type": "markdown",
      "source": [
        "# Data preparation"
      ],
      "metadata": {
        "id": "gztlYy_vdQsI"
      }
    },
    {
      "cell_type": "code",
      "source": [
        "#Dropping the ID column because of high cardinality\n",
        "data=dataset.drop(['ID'],axis=1)\n",
        "data.head()"
      ],
      "metadata": {
        "execution": {
          "iopub.status.busy": "2021-05-24T12:40:31.922765Z",
          "iopub.execute_input": "2021-05-24T12:40:31.923055Z",
          "iopub.status.idle": "2021-05-24T12:40:31.945209Z",
          "shell.execute_reply.started": "2021-05-24T12:40:31.923027Z",
          "shell.execute_reply": "2021-05-24T12:40:31.943953Z"
        },
        "trusted": true,
        "id": "VDnZw1PSdQsI",
        "colab": {
          "base_uri": "https://localhost:8080/",
          "height": 270
        },
        "outputId": "e7be02cb-ef82-4801-e537-4d66c97ec050"
      },
      "execution_count": 23,
      "outputs": [
        {
          "output_type": "execute_result",
          "data": {
            "text/plain": [
              "  Warehouse_block Mode_of_Shipment  Customer_care_calls  Customer_rating  \\\n",
              "0               D           Flight                    4                2   \n",
              "1               F           Flight                    4                5   \n",
              "2               A           Flight                    2                2   \n",
              "3               B           Flight                    3                3   \n",
              "4               C           Flight                    2                2   \n",
              "\n",
              "   Cost_of_the_Product  Prior_purchases Product_importance Gender  \\\n",
              "0                  177                3                low      F   \n",
              "1                  216                2                low      M   \n",
              "2                  183                4                low      M   \n",
              "3                  176                4             medium      M   \n",
              "4                  184                3             medium      F   \n",
              "\n",
              "   Discount_offered  Weight_in_gms  Reached.on.Time_Y.N  \n",
              "0                44           1233                    1  \n",
              "1                59           3088                    1  \n",
              "2                48           3374                    1  \n",
              "3                10           1177                    1  \n",
              "4                46           2484                    1  "
            ],
            "text/html": [
              "\n",
              "  <div id=\"df-5f15c86e-67fb-47a8-add0-884eacc7d0e0\">\n",
              "    <div class=\"colab-df-container\">\n",
              "      <div>\n",
              "<style scoped>\n",
              "    .dataframe tbody tr th:only-of-type {\n",
              "        vertical-align: middle;\n",
              "    }\n",
              "\n",
              "    .dataframe tbody tr th {\n",
              "        vertical-align: top;\n",
              "    }\n",
              "\n",
              "    .dataframe thead th {\n",
              "        text-align: right;\n",
              "    }\n",
              "</style>\n",
              "<table border=\"1\" class=\"dataframe\">\n",
              "  <thead>\n",
              "    <tr style=\"text-align: right;\">\n",
              "      <th></th>\n",
              "      <th>Warehouse_block</th>\n",
              "      <th>Mode_of_Shipment</th>\n",
              "      <th>Customer_care_calls</th>\n",
              "      <th>Customer_rating</th>\n",
              "      <th>Cost_of_the_Product</th>\n",
              "      <th>Prior_purchases</th>\n",
              "      <th>Product_importance</th>\n",
              "      <th>Gender</th>\n",
              "      <th>Discount_offered</th>\n",
              "      <th>Weight_in_gms</th>\n",
              "      <th>Reached.on.Time_Y.N</th>\n",
              "    </tr>\n",
              "  </thead>\n",
              "  <tbody>\n",
              "    <tr>\n",
              "      <th>0</th>\n",
              "      <td>D</td>\n",
              "      <td>Flight</td>\n",
              "      <td>4</td>\n",
              "      <td>2</td>\n",
              "      <td>177</td>\n",
              "      <td>3</td>\n",
              "      <td>low</td>\n",
              "      <td>F</td>\n",
              "      <td>44</td>\n",
              "      <td>1233</td>\n",
              "      <td>1</td>\n",
              "    </tr>\n",
              "    <tr>\n",
              "      <th>1</th>\n",
              "      <td>F</td>\n",
              "      <td>Flight</td>\n",
              "      <td>4</td>\n",
              "      <td>5</td>\n",
              "      <td>216</td>\n",
              "      <td>2</td>\n",
              "      <td>low</td>\n",
              "      <td>M</td>\n",
              "      <td>59</td>\n",
              "      <td>3088</td>\n",
              "      <td>1</td>\n",
              "    </tr>\n",
              "    <tr>\n",
              "      <th>2</th>\n",
              "      <td>A</td>\n",
              "      <td>Flight</td>\n",
              "      <td>2</td>\n",
              "      <td>2</td>\n",
              "      <td>183</td>\n",
              "      <td>4</td>\n",
              "      <td>low</td>\n",
              "      <td>M</td>\n",
              "      <td>48</td>\n",
              "      <td>3374</td>\n",
              "      <td>1</td>\n",
              "    </tr>\n",
              "    <tr>\n",
              "      <th>3</th>\n",
              "      <td>B</td>\n",
              "      <td>Flight</td>\n",
              "      <td>3</td>\n",
              "      <td>3</td>\n",
              "      <td>176</td>\n",
              "      <td>4</td>\n",
              "      <td>medium</td>\n",
              "      <td>M</td>\n",
              "      <td>10</td>\n",
              "      <td>1177</td>\n",
              "      <td>1</td>\n",
              "    </tr>\n",
              "    <tr>\n",
              "      <th>4</th>\n",
              "      <td>C</td>\n",
              "      <td>Flight</td>\n",
              "      <td>2</td>\n",
              "      <td>2</td>\n",
              "      <td>184</td>\n",
              "      <td>3</td>\n",
              "      <td>medium</td>\n",
              "      <td>F</td>\n",
              "      <td>46</td>\n",
              "      <td>2484</td>\n",
              "      <td>1</td>\n",
              "    </tr>\n",
              "  </tbody>\n",
              "</table>\n",
              "</div>\n",
              "      <button class=\"colab-df-convert\" onclick=\"convertToInteractive('df-5f15c86e-67fb-47a8-add0-884eacc7d0e0')\"\n",
              "              title=\"Convert this dataframe to an interactive table.\"\n",
              "              style=\"display:none;\">\n",
              "        \n",
              "  <svg xmlns=\"http://www.w3.org/2000/svg\" height=\"24px\"viewBox=\"0 0 24 24\"\n",
              "       width=\"24px\">\n",
              "    <path d=\"M0 0h24v24H0V0z\" fill=\"none\"/>\n",
              "    <path d=\"M18.56 5.44l.94 2.06.94-2.06 2.06-.94-2.06-.94-.94-2.06-.94 2.06-2.06.94zm-11 1L8.5 8.5l.94-2.06 2.06-.94-2.06-.94L8.5 2.5l-.94 2.06-2.06.94zm10 10l.94 2.06.94-2.06 2.06-.94-2.06-.94-.94-2.06-.94 2.06-2.06.94z\"/><path d=\"M17.41 7.96l-1.37-1.37c-.4-.4-.92-.59-1.43-.59-.52 0-1.04.2-1.43.59L10.3 9.45l-7.72 7.72c-.78.78-.78 2.05 0 2.83L4 21.41c.39.39.9.59 1.41.59.51 0 1.02-.2 1.41-.59l7.78-7.78 2.81-2.81c.8-.78.8-2.07 0-2.86zM5.41 20L4 18.59l7.72-7.72 1.47 1.35L5.41 20z\"/>\n",
              "  </svg>\n",
              "      </button>\n",
              "      \n",
              "  <style>\n",
              "    .colab-df-container {\n",
              "      display:flex;\n",
              "      flex-wrap:wrap;\n",
              "      gap: 12px;\n",
              "    }\n",
              "\n",
              "    .colab-df-convert {\n",
              "      background-color: #E8F0FE;\n",
              "      border: none;\n",
              "      border-radius: 50%;\n",
              "      cursor: pointer;\n",
              "      display: none;\n",
              "      fill: #1967D2;\n",
              "      height: 32px;\n",
              "      padding: 0 0 0 0;\n",
              "      width: 32px;\n",
              "    }\n",
              "\n",
              "    .colab-df-convert:hover {\n",
              "      background-color: #E2EBFA;\n",
              "      box-shadow: 0px 1px 2px rgba(60, 64, 67, 0.3), 0px 1px 3px 1px rgba(60, 64, 67, 0.15);\n",
              "      fill: #174EA6;\n",
              "    }\n",
              "\n",
              "    [theme=dark] .colab-df-convert {\n",
              "      background-color: #3B4455;\n",
              "      fill: #D2E3FC;\n",
              "    }\n",
              "\n",
              "    [theme=dark] .colab-df-convert:hover {\n",
              "      background-color: #434B5C;\n",
              "      box-shadow: 0px 1px 3px 1px rgba(0, 0, 0, 0.15);\n",
              "      filter: drop-shadow(0px 1px 2px rgba(0, 0, 0, 0.3));\n",
              "      fill: #FFFFFF;\n",
              "    }\n",
              "  </style>\n",
              "\n",
              "      <script>\n",
              "        const buttonEl =\n",
              "          document.querySelector('#df-5f15c86e-67fb-47a8-add0-884eacc7d0e0 button.colab-df-convert');\n",
              "        buttonEl.style.display =\n",
              "          google.colab.kernel.accessAllowed ? 'block' : 'none';\n",
              "\n",
              "        async function convertToInteractive(key) {\n",
              "          const element = document.querySelector('#df-5f15c86e-67fb-47a8-add0-884eacc7d0e0');\n",
              "          const dataTable =\n",
              "            await google.colab.kernel.invokeFunction('convertToInteractive',\n",
              "                                                     [key], {});\n",
              "          if (!dataTable) return;\n",
              "\n",
              "          const docLinkHtml = 'Like what you see? Visit the ' +\n",
              "            '<a target=\"_blank\" href=https://colab.research.google.com/notebooks/data_table.ipynb>data table notebook</a>'\n",
              "            + ' to learn more about interactive tables.';\n",
              "          element.innerHTML = '';\n",
              "          dataTable['output_type'] = 'display_data';\n",
              "          await google.colab.output.renderOutput(dataTable, element);\n",
              "          const docLink = document.createElement('div');\n",
              "          docLink.innerHTML = docLinkHtml;\n",
              "          element.appendChild(docLink);\n",
              "        }\n",
              "      </script>\n",
              "    </div>\n",
              "  </div>\n",
              "  "
            ]
          },
          "metadata": {},
          "execution_count": 23
        }
      ]
    },
    {
      "cell_type": "markdown",
      "source": [
        "**Chi square test of independence**"
      ],
      "metadata": {
        "id": "DZQM0or8dQsI"
      }
    },
    {
      "cell_type": "code",
      "source": [
        "#Warehouse_block\n",
        "crossTab = pd.crosstab(data['Warehouse_block'], data['Reached.on.Time_Y.N'])\n",
        "ChiSqResult = chi2_contingency(crossTab)\n",
        "print(\"p-value \",ChiSqResult[1])"
      ],
      "metadata": {
        "execution": {
          "iopub.status.busy": "2021-05-24T12:40:31.946814Z",
          "iopub.execute_input": "2021-05-24T12:40:31.947257Z",
          "iopub.status.idle": "2021-05-24T12:40:31.983058Z",
          "shell.execute_reply.started": "2021-05-24T12:40:31.947212Z",
          "shell.execute_reply": "2021-05-24T12:40:31.981987Z"
        },
        "trusted": true,
        "id": "zviTZY_qdQsI",
        "colab": {
          "base_uri": "https://localhost:8080/"
        },
        "outputId": "11556a73-f340-4b7b-c53b-3c2fcf08e475"
      },
      "execution_count": 24,
      "outputs": [
        {
          "output_type": "stream",
          "name": "stdout",
          "text": [
            "p-value  0.8959524278243698\n"
          ]
        }
      ]
    },
    {
      "cell_type": "code",
      "source": [
        "#Warehouse_block\n",
        "crossTab = pd.crosstab(data['Mode_of_Shipment'],data['Reached.on.Time_Y.N'])\n",
        "ChiSqResult = chi2_contingency(crossTab)\n",
        "print(\"p-value \",ChiSqResult[1])"
      ],
      "metadata": {
        "execution": {
          "iopub.status.busy": "2021-05-24T12:40:31.984728Z",
          "iopub.execute_input": "2021-05-24T12:40:31.985172Z",
          "iopub.status.idle": "2021-05-24T12:40:32.009049Z",
          "shell.execute_reply.started": "2021-05-24T12:40:31.985127Z",
          "shell.execute_reply": "2021-05-24T12:40:32.007772Z"
        },
        "trusted": true,
        "id": "DfR5zX9IdQsI",
        "colab": {
          "base_uri": "https://localhost:8080/"
        },
        "outputId": "1097f301-0a85-4d48-9040-ea8ef97fa1da"
      },
      "execution_count": 25,
      "outputs": [
        {
          "output_type": "stream",
          "name": "stdout",
          "text": [
            "p-value  0.6895487627593786\n"
          ]
        }
      ]
    },
    {
      "cell_type": "code",
      "source": [
        "# Product_importance\n",
        "crossTab = pd.crosstab(data['Product_importance'],data['Reached.on.Time_Y.N'])\n",
        "ChiSqResult = chi2_contingency(crossTab)\n",
        "print(\"p-value \",ChiSqResult[1])"
      ],
      "metadata": {
        "execution": {
          "iopub.status.busy": "2021-05-24T12:40:32.010316Z",
          "iopub.execute_input": "2021-05-24T12:40:32.010791Z",
          "iopub.status.idle": "2021-05-24T12:40:32.032052Z",
          "shell.execute_reply.started": "2021-05-24T12:40:32.010742Z",
          "shell.execute_reply": "2021-05-24T12:40:32.031085Z"
        },
        "trusted": true,
        "id": "qNl4xXIMdQsI",
        "colab": {
          "base_uri": "https://localhost:8080/"
        },
        "outputId": "ce0625d9-8252-41f5-82a9-66bc0e091459"
      },
      "execution_count": 26,
      "outputs": [
        {
          "output_type": "stream",
          "name": "stdout",
          "text": [
            "p-value  0.002230383104745087\n"
          ]
        }
      ]
    },
    {
      "cell_type": "code",
      "source": [
        "# Gender\n",
        "crossTab = pd.crosstab(data['Gender'],data['Reached.on.Time_Y.N'])\n",
        "ChiSqResult = chi2_contingency(crossTab)\n",
        "print(\"p-value \",ChiSqResult[1])"
      ],
      "metadata": {
        "execution": {
          "iopub.status.busy": "2021-05-24T12:40:32.033252Z",
          "iopub.execute_input": "2021-05-24T12:40:32.033534Z",
          "iopub.status.idle": "2021-05-24T12:40:32.053859Z",
          "shell.execute_reply.started": "2021-05-24T12:40:32.033505Z",
          "shell.execute_reply": "2021-05-24T12:40:32.052787Z"
        },
        "trusted": true,
        "id": "YQtOnj3ddQsI",
        "colab": {
          "base_uri": "https://localhost:8080/"
        },
        "outputId": "aca0c1bf-4be7-447c-92da-dd413525492e"
      },
      "execution_count": 27,
      "outputs": [
        {
          "output_type": "stream",
          "name": "stdout",
          "text": [
            "p-value  0.6367032124181522\n"
          ]
        }
      ]
    },
    {
      "cell_type": "markdown",
      "source": [
        "**Observations:**\n",
        "* From chi square test, we can conclude that three of the independent categorical features are not related to the response variable beacause the p value is greater than 0.05. So, these features can be removed and only product importance feature can be included"
      ],
      "metadata": {
        "id": "KvwA8VaVdQsI"
      }
    },
    {
      "cell_type": "code",
      "source": [
        "#Renaming the column Reached.on.Time_Y.N\n",
        "data.rename(columns={'Reached.on.Time_Y.N':'Reached on Time'}, inplace=True)"
      ],
      "metadata": {
        "execution": {
          "iopub.status.busy": "2021-05-24T12:40:32.057147Z",
          "iopub.execute_input": "2021-05-24T12:40:32.057441Z",
          "iopub.status.idle": "2021-05-24T12:40:32.065349Z",
          "shell.execute_reply.started": "2021-05-24T12:40:32.057413Z",
          "shell.execute_reply": "2021-05-24T12:40:32.064126Z"
        },
        "trusted": true,
        "id": "iE7UunPadQsJ"
      },
      "execution_count": 28,
      "outputs": []
    },
    {
      "cell_type": "code",
      "source": [
        "data=pd.get_dummies(data,columns=['Product_importance'], drop_first=True)\n",
        "data.head()"
      ],
      "metadata": {
        "execution": {
          "iopub.status.busy": "2021-05-24T12:40:32.067046Z",
          "iopub.execute_input": "2021-05-24T12:40:32.067339Z",
          "iopub.status.idle": "2021-05-24T12:40:32.096811Z",
          "shell.execute_reply.started": "2021-05-24T12:40:32.067312Z",
          "shell.execute_reply": "2021-05-24T12:40:32.095664Z"
        },
        "trusted": true,
        "id": "y_k_FssHdQsJ",
        "colab": {
          "base_uri": "https://localhost:8080/",
          "height": 288
        },
        "outputId": "b8072340-98d1-4838-8a7f-37907dcdc9f3"
      },
      "execution_count": 29,
      "outputs": [
        {
          "output_type": "execute_result",
          "data": {
            "text/plain": [
              "  Warehouse_block Mode_of_Shipment  Customer_care_calls  Customer_rating  \\\n",
              "0               D           Flight                    4                2   \n",
              "1               F           Flight                    4                5   \n",
              "2               A           Flight                    2                2   \n",
              "3               B           Flight                    3                3   \n",
              "4               C           Flight                    2                2   \n",
              "\n",
              "   Cost_of_the_Product  Prior_purchases Gender  Discount_offered  \\\n",
              "0                  177                3      F                44   \n",
              "1                  216                2      M                59   \n",
              "2                  183                4      M                48   \n",
              "3                  176                4      M                10   \n",
              "4                  184                3      F                46   \n",
              "\n",
              "   Weight_in_gms  Reached on Time  Product_importance_low  \\\n",
              "0           1233                1                       1   \n",
              "1           3088                1                       1   \n",
              "2           3374                1                       1   \n",
              "3           1177                1                       0   \n",
              "4           2484                1                       0   \n",
              "\n",
              "   Product_importance_medium  \n",
              "0                          0  \n",
              "1                          0  \n",
              "2                          0  \n",
              "3                          1  \n",
              "4                          1  "
            ],
            "text/html": [
              "\n",
              "  <div id=\"df-62ec178c-e0f2-468a-aa86-0d841ce1e3e9\">\n",
              "    <div class=\"colab-df-container\">\n",
              "      <div>\n",
              "<style scoped>\n",
              "    .dataframe tbody tr th:only-of-type {\n",
              "        vertical-align: middle;\n",
              "    }\n",
              "\n",
              "    .dataframe tbody tr th {\n",
              "        vertical-align: top;\n",
              "    }\n",
              "\n",
              "    .dataframe thead th {\n",
              "        text-align: right;\n",
              "    }\n",
              "</style>\n",
              "<table border=\"1\" class=\"dataframe\">\n",
              "  <thead>\n",
              "    <tr style=\"text-align: right;\">\n",
              "      <th></th>\n",
              "      <th>Warehouse_block</th>\n",
              "      <th>Mode_of_Shipment</th>\n",
              "      <th>Customer_care_calls</th>\n",
              "      <th>Customer_rating</th>\n",
              "      <th>Cost_of_the_Product</th>\n",
              "      <th>Prior_purchases</th>\n",
              "      <th>Gender</th>\n",
              "      <th>Discount_offered</th>\n",
              "      <th>Weight_in_gms</th>\n",
              "      <th>Reached on Time</th>\n",
              "      <th>Product_importance_low</th>\n",
              "      <th>Product_importance_medium</th>\n",
              "    </tr>\n",
              "  </thead>\n",
              "  <tbody>\n",
              "    <tr>\n",
              "      <th>0</th>\n",
              "      <td>D</td>\n",
              "      <td>Flight</td>\n",
              "      <td>4</td>\n",
              "      <td>2</td>\n",
              "      <td>177</td>\n",
              "      <td>3</td>\n",
              "      <td>F</td>\n",
              "      <td>44</td>\n",
              "      <td>1233</td>\n",
              "      <td>1</td>\n",
              "      <td>1</td>\n",
              "      <td>0</td>\n",
              "    </tr>\n",
              "    <tr>\n",
              "      <th>1</th>\n",
              "      <td>F</td>\n",
              "      <td>Flight</td>\n",
              "      <td>4</td>\n",
              "      <td>5</td>\n",
              "      <td>216</td>\n",
              "      <td>2</td>\n",
              "      <td>M</td>\n",
              "      <td>59</td>\n",
              "      <td>3088</td>\n",
              "      <td>1</td>\n",
              "      <td>1</td>\n",
              "      <td>0</td>\n",
              "    </tr>\n",
              "    <tr>\n",
              "      <th>2</th>\n",
              "      <td>A</td>\n",
              "      <td>Flight</td>\n",
              "      <td>2</td>\n",
              "      <td>2</td>\n",
              "      <td>183</td>\n",
              "      <td>4</td>\n",
              "      <td>M</td>\n",
              "      <td>48</td>\n",
              "      <td>3374</td>\n",
              "      <td>1</td>\n",
              "      <td>1</td>\n",
              "      <td>0</td>\n",
              "    </tr>\n",
              "    <tr>\n",
              "      <th>3</th>\n",
              "      <td>B</td>\n",
              "      <td>Flight</td>\n",
              "      <td>3</td>\n",
              "      <td>3</td>\n",
              "      <td>176</td>\n",
              "      <td>4</td>\n",
              "      <td>M</td>\n",
              "      <td>10</td>\n",
              "      <td>1177</td>\n",
              "      <td>1</td>\n",
              "      <td>0</td>\n",
              "      <td>1</td>\n",
              "    </tr>\n",
              "    <tr>\n",
              "      <th>4</th>\n",
              "      <td>C</td>\n",
              "      <td>Flight</td>\n",
              "      <td>2</td>\n",
              "      <td>2</td>\n",
              "      <td>184</td>\n",
              "      <td>3</td>\n",
              "      <td>F</td>\n",
              "      <td>46</td>\n",
              "      <td>2484</td>\n",
              "      <td>1</td>\n",
              "      <td>0</td>\n",
              "      <td>1</td>\n",
              "    </tr>\n",
              "  </tbody>\n",
              "</table>\n",
              "</div>\n",
              "      <button class=\"colab-df-convert\" onclick=\"convertToInteractive('df-62ec178c-e0f2-468a-aa86-0d841ce1e3e9')\"\n",
              "              title=\"Convert this dataframe to an interactive table.\"\n",
              "              style=\"display:none;\">\n",
              "        \n",
              "  <svg xmlns=\"http://www.w3.org/2000/svg\" height=\"24px\"viewBox=\"0 0 24 24\"\n",
              "       width=\"24px\">\n",
              "    <path d=\"M0 0h24v24H0V0z\" fill=\"none\"/>\n",
              "    <path d=\"M18.56 5.44l.94 2.06.94-2.06 2.06-.94-2.06-.94-.94-2.06-.94 2.06-2.06.94zm-11 1L8.5 8.5l.94-2.06 2.06-.94-2.06-.94L8.5 2.5l-.94 2.06-2.06.94zm10 10l.94 2.06.94-2.06 2.06-.94-2.06-.94-.94-2.06-.94 2.06-2.06.94z\"/><path d=\"M17.41 7.96l-1.37-1.37c-.4-.4-.92-.59-1.43-.59-.52 0-1.04.2-1.43.59L10.3 9.45l-7.72 7.72c-.78.78-.78 2.05 0 2.83L4 21.41c.39.39.9.59 1.41.59.51 0 1.02-.2 1.41-.59l7.78-7.78 2.81-2.81c.8-.78.8-2.07 0-2.86zM5.41 20L4 18.59l7.72-7.72 1.47 1.35L5.41 20z\"/>\n",
              "  </svg>\n",
              "      </button>\n",
              "      \n",
              "  <style>\n",
              "    .colab-df-container {\n",
              "      display:flex;\n",
              "      flex-wrap:wrap;\n",
              "      gap: 12px;\n",
              "    }\n",
              "\n",
              "    .colab-df-convert {\n",
              "      background-color: #E8F0FE;\n",
              "      border: none;\n",
              "      border-radius: 50%;\n",
              "      cursor: pointer;\n",
              "      display: none;\n",
              "      fill: #1967D2;\n",
              "      height: 32px;\n",
              "      padding: 0 0 0 0;\n",
              "      width: 32px;\n",
              "    }\n",
              "\n",
              "    .colab-df-convert:hover {\n",
              "      background-color: #E2EBFA;\n",
              "      box-shadow: 0px 1px 2px rgba(60, 64, 67, 0.3), 0px 1px 3px 1px rgba(60, 64, 67, 0.15);\n",
              "      fill: #174EA6;\n",
              "    }\n",
              "\n",
              "    [theme=dark] .colab-df-convert {\n",
              "      background-color: #3B4455;\n",
              "      fill: #D2E3FC;\n",
              "    }\n",
              "\n",
              "    [theme=dark] .colab-df-convert:hover {\n",
              "      background-color: #434B5C;\n",
              "      box-shadow: 0px 1px 3px 1px rgba(0, 0, 0, 0.15);\n",
              "      filter: drop-shadow(0px 1px 2px rgba(0, 0, 0, 0.3));\n",
              "      fill: #FFFFFF;\n",
              "    }\n",
              "  </style>\n",
              "\n",
              "      <script>\n",
              "        const buttonEl =\n",
              "          document.querySelector('#df-62ec178c-e0f2-468a-aa86-0d841ce1e3e9 button.colab-df-convert');\n",
              "        buttonEl.style.display =\n",
              "          google.colab.kernel.accessAllowed ? 'block' : 'none';\n",
              "\n",
              "        async function convertToInteractive(key) {\n",
              "          const element = document.querySelector('#df-62ec178c-e0f2-468a-aa86-0d841ce1e3e9');\n",
              "          const dataTable =\n",
              "            await google.colab.kernel.invokeFunction('convertToInteractive',\n",
              "                                                     [key], {});\n",
              "          if (!dataTable) return;\n",
              "\n",
              "          const docLinkHtml = 'Like what you see? Visit the ' +\n",
              "            '<a target=\"_blank\" href=https://colab.research.google.com/notebooks/data_table.ipynb>data table notebook</a>'\n",
              "            + ' to learn more about interactive tables.';\n",
              "          element.innerHTML = '';\n",
              "          dataTable['output_type'] = 'display_data';\n",
              "          await google.colab.output.renderOutput(dataTable, element);\n",
              "          const docLink = document.createElement('div');\n",
              "          docLink.innerHTML = docLinkHtml;\n",
              "          element.appendChild(docLink);\n",
              "        }\n",
              "      </script>\n",
              "    </div>\n",
              "  </div>\n",
              "  "
            ]
          },
          "metadata": {},
          "execution_count": 29
        }
      ]
    },
    {
      "cell_type": "code",
      "source": [
        "X=data.drop(['Reached on Time','Warehouse_block','Mode_of_Shipment','Gender'],axis=1)\n",
        "y=data['Reached on Time']"
      ],
      "metadata": {
        "execution": {
          "iopub.status.busy": "2021-05-24T12:40:32.09842Z",
          "iopub.execute_input": "2021-05-24T12:40:32.098896Z",
          "iopub.status.idle": "2021-05-24T12:40:32.108562Z",
          "shell.execute_reply.started": "2021-05-24T12:40:32.098849Z",
          "shell.execute_reply": "2021-05-24T12:40:32.107387Z"
        },
        "trusted": true,
        "id": "5VBKMtmmdQsJ"
      },
      "execution_count": 30,
      "outputs": []
    },
    {
      "cell_type": "code",
      "source": [
        "features=data_sales.drop(columns=['Reached on Time','Warehouse_block','Mode_of_Shipment','Gender' ])\n",
        "target=data_sales['Reached on Time']"
      ],
      "metadata": {
        "colab": {
          "base_uri": "https://localhost:8080/",
          "height": 182
        },
        "id": "KrGEmfpJnZEc",
        "outputId": "046e4ea7-0aa9-40da-c532-92d6e921f96b"
      },
      "execution_count": null,
      "outputs": [
        {
          "output_type": "error",
          "ename": "NameError",
          "evalue": "ignored",
          "traceback": [
            "\u001b[0;31m---------------------------------------------------------------------------\u001b[0m",
            "\u001b[0;31mNameError\u001b[0m                                 Traceback (most recent call last)",
            "\u001b[0;32m<ipython-input-1-5d743fde02e2>\u001b[0m in \u001b[0;36m<module>\u001b[0;34m\u001b[0m\n\u001b[0;32m----> 1\u001b[0;31m \u001b[0mfeatures\u001b[0m\u001b[0;34m=\u001b[0m\u001b[0mdata_sales\u001b[0m\u001b[0;34m.\u001b[0m\u001b[0mdrop\u001b[0m\u001b[0;34m(\u001b[0m\u001b[0mcolumns\u001b[0m\u001b[0;34m=\u001b[0m\u001b[0;34m[\u001b[0m\u001b[0;34m'Reached on Time'\u001b[0m\u001b[0;34m,\u001b[0m\u001b[0;34m'Warehouse_block'\u001b[0m\u001b[0;34m,\u001b[0m\u001b[0;34m'Mode_of_Shipment'\u001b[0m\u001b[0;34m,\u001b[0m\u001b[0;34m'Gender'\u001b[0m \u001b[0;34m]\u001b[0m\u001b[0;34m)\u001b[0m\u001b[0;34m\u001b[0m\u001b[0;34m\u001b[0m\u001b[0m\n\u001b[0m\u001b[1;32m      2\u001b[0m \u001b[0mtarget\u001b[0m\u001b[0;34m=\u001b[0m\u001b[0mdata_sales\u001b[0m\u001b[0;34m[\u001b[0m\u001b[0;34m'Reached on Time'\u001b[0m\u001b[0;34m]\u001b[0m\u001b[0;34m\u001b[0m\u001b[0;34m\u001b[0m\u001b[0m\n",
            "\u001b[0;31mNameError\u001b[0m: name 'data_sales' is not defined"
          ]
        }
      ]
    },
    {
      "cell_type": "code",
      "source": [
        "#Splitting data into training and testing data\n",
        "X_train, X_test, y_train, y_test = train_test_split(X,y,test_size=0.2, random_state=42)\n",
        "\n",
        "#Scaling the data\n",
        "ms = MinMaxScaler()\n",
        "X_train = ms.fit_transform(X_train)\n",
        "X_test = ms.fit_transform(X_test)"
      ],
      "metadata": {
        "execution": {
          "iopub.status.busy": "2021-05-24T12:40:32.109992Z",
          "iopub.execute_input": "2021-05-24T12:40:32.11042Z",
          "iopub.status.idle": "2021-05-24T12:40:32.136554Z",
          "shell.execute_reply.started": "2021-05-24T12:40:32.110384Z",
          "shell.execute_reply": "2021-05-24T12:40:32.135415Z"
        },
        "trusted": true,
        "id": "OvwnCsA2dQsJ"
      },
      "execution_count": 31,
      "outputs": []
    },
    {
      "cell_type": "code",
      "source": [
        "X_train = pd.DataFrame(X_train,columns=X.columns)\n",
        "X_test  =pd.DataFrame(X_test,columns=X.columns)\n",
        "X_train.head()"
      ],
      "metadata": {
        "execution": {
          "iopub.status.busy": "2021-05-24T12:40:32.137852Z",
          "iopub.execute_input": "2021-05-24T12:40:32.138202Z",
          "iopub.status.idle": "2021-05-24T12:40:32.155779Z",
          "shell.execute_reply.started": "2021-05-24T12:40:32.138172Z",
          "shell.execute_reply": "2021-05-24T12:40:32.154634Z"
        },
        "trusted": true,
        "id": "vv-XaZmddQsJ",
        "colab": {
          "base_uri": "https://localhost:8080/",
          "height": 206
        },
        "outputId": "99cc4334-8574-48e1-9e3e-2d35346975eb"
      },
      "execution_count": 32,
      "outputs": [
        {
          "output_type": "execute_result",
          "data": {
            "text/plain": [
              "   Customer_care_calls  Customer_rating  Cost_of_the_Product  Prior_purchases  \\\n",
              "0                  0.2              1.0             0.383178            0.125   \n",
              "1                  0.8              0.5             0.495327            0.250   \n",
              "2                  0.0              1.0             0.845794            0.125   \n",
              "3                  0.6              1.0             0.574766            0.000   \n",
              "4                  0.8              0.5             0.934579            0.250   \n",
              "\n",
              "   Discount_offered  Weight_in_gms  Product_importance_low  \\\n",
              "0          0.093750       0.457852                     1.0   \n",
              "1          0.031250       0.510592                     0.0   \n",
              "2          0.078125       0.004529                     0.0   \n",
              "3          0.046875       0.480351                     0.0   \n",
              "4          0.046875       0.094814                     1.0   \n",
              "\n",
              "   Product_importance_medium  \n",
              "0                        0.0  \n",
              "1                        1.0  \n",
              "2                        1.0  \n",
              "3                        1.0  \n",
              "4                        0.0  "
            ],
            "text/html": [
              "\n",
              "  <div id=\"df-a53b30d6-4b77-4033-beba-d1a5206a8680\">\n",
              "    <div class=\"colab-df-container\">\n",
              "      <div>\n",
              "<style scoped>\n",
              "    .dataframe tbody tr th:only-of-type {\n",
              "        vertical-align: middle;\n",
              "    }\n",
              "\n",
              "    .dataframe tbody tr th {\n",
              "        vertical-align: top;\n",
              "    }\n",
              "\n",
              "    .dataframe thead th {\n",
              "        text-align: right;\n",
              "    }\n",
              "</style>\n",
              "<table border=\"1\" class=\"dataframe\">\n",
              "  <thead>\n",
              "    <tr style=\"text-align: right;\">\n",
              "      <th></th>\n",
              "      <th>Customer_care_calls</th>\n",
              "      <th>Customer_rating</th>\n",
              "      <th>Cost_of_the_Product</th>\n",
              "      <th>Prior_purchases</th>\n",
              "      <th>Discount_offered</th>\n",
              "      <th>Weight_in_gms</th>\n",
              "      <th>Product_importance_low</th>\n",
              "      <th>Product_importance_medium</th>\n",
              "    </tr>\n",
              "  </thead>\n",
              "  <tbody>\n",
              "    <tr>\n",
              "      <th>0</th>\n",
              "      <td>0.2</td>\n",
              "      <td>1.0</td>\n",
              "      <td>0.383178</td>\n",
              "      <td>0.125</td>\n",
              "      <td>0.093750</td>\n",
              "      <td>0.457852</td>\n",
              "      <td>1.0</td>\n",
              "      <td>0.0</td>\n",
              "    </tr>\n",
              "    <tr>\n",
              "      <th>1</th>\n",
              "      <td>0.8</td>\n",
              "      <td>0.5</td>\n",
              "      <td>0.495327</td>\n",
              "      <td>0.250</td>\n",
              "      <td>0.031250</td>\n",
              "      <td>0.510592</td>\n",
              "      <td>0.0</td>\n",
              "      <td>1.0</td>\n",
              "    </tr>\n",
              "    <tr>\n",
              "      <th>2</th>\n",
              "      <td>0.0</td>\n",
              "      <td>1.0</td>\n",
              "      <td>0.845794</td>\n",
              "      <td>0.125</td>\n",
              "      <td>0.078125</td>\n",
              "      <td>0.004529</td>\n",
              "      <td>0.0</td>\n",
              "      <td>1.0</td>\n",
              "    </tr>\n",
              "    <tr>\n",
              "      <th>3</th>\n",
              "      <td>0.6</td>\n",
              "      <td>1.0</td>\n",
              "      <td>0.574766</td>\n",
              "      <td>0.000</td>\n",
              "      <td>0.046875</td>\n",
              "      <td>0.480351</td>\n",
              "      <td>0.0</td>\n",
              "      <td>1.0</td>\n",
              "    </tr>\n",
              "    <tr>\n",
              "      <th>4</th>\n",
              "      <td>0.8</td>\n",
              "      <td>0.5</td>\n",
              "      <td>0.934579</td>\n",
              "      <td>0.250</td>\n",
              "      <td>0.046875</td>\n",
              "      <td>0.094814</td>\n",
              "      <td>1.0</td>\n",
              "      <td>0.0</td>\n",
              "    </tr>\n",
              "  </tbody>\n",
              "</table>\n",
              "</div>\n",
              "      <button class=\"colab-df-convert\" onclick=\"convertToInteractive('df-a53b30d6-4b77-4033-beba-d1a5206a8680')\"\n",
              "              title=\"Convert this dataframe to an interactive table.\"\n",
              "              style=\"display:none;\">\n",
              "        \n",
              "  <svg xmlns=\"http://www.w3.org/2000/svg\" height=\"24px\"viewBox=\"0 0 24 24\"\n",
              "       width=\"24px\">\n",
              "    <path d=\"M0 0h24v24H0V0z\" fill=\"none\"/>\n",
              "    <path d=\"M18.56 5.44l.94 2.06.94-2.06 2.06-.94-2.06-.94-.94-2.06-.94 2.06-2.06.94zm-11 1L8.5 8.5l.94-2.06 2.06-.94-2.06-.94L8.5 2.5l-.94 2.06-2.06.94zm10 10l.94 2.06.94-2.06 2.06-.94-2.06-.94-.94-2.06-.94 2.06-2.06.94z\"/><path d=\"M17.41 7.96l-1.37-1.37c-.4-.4-.92-.59-1.43-.59-.52 0-1.04.2-1.43.59L10.3 9.45l-7.72 7.72c-.78.78-.78 2.05 0 2.83L4 21.41c.39.39.9.59 1.41.59.51 0 1.02-.2 1.41-.59l7.78-7.78 2.81-2.81c.8-.78.8-2.07 0-2.86zM5.41 20L4 18.59l7.72-7.72 1.47 1.35L5.41 20z\"/>\n",
              "  </svg>\n",
              "      </button>\n",
              "      \n",
              "  <style>\n",
              "    .colab-df-container {\n",
              "      display:flex;\n",
              "      flex-wrap:wrap;\n",
              "      gap: 12px;\n",
              "    }\n",
              "\n",
              "    .colab-df-convert {\n",
              "      background-color: #E8F0FE;\n",
              "      border: none;\n",
              "      border-radius: 50%;\n",
              "      cursor: pointer;\n",
              "      display: none;\n",
              "      fill: #1967D2;\n",
              "      height: 32px;\n",
              "      padding: 0 0 0 0;\n",
              "      width: 32px;\n",
              "    }\n",
              "\n",
              "    .colab-df-convert:hover {\n",
              "      background-color: #E2EBFA;\n",
              "      box-shadow: 0px 1px 2px rgba(60, 64, 67, 0.3), 0px 1px 3px 1px rgba(60, 64, 67, 0.15);\n",
              "      fill: #174EA6;\n",
              "    }\n",
              "\n",
              "    [theme=dark] .colab-df-convert {\n",
              "      background-color: #3B4455;\n",
              "      fill: #D2E3FC;\n",
              "    }\n",
              "\n",
              "    [theme=dark] .colab-df-convert:hover {\n",
              "      background-color: #434B5C;\n",
              "      box-shadow: 0px 1px 3px 1px rgba(0, 0, 0, 0.15);\n",
              "      filter: drop-shadow(0px 1px 2px rgba(0, 0, 0, 0.3));\n",
              "      fill: #FFFFFF;\n",
              "    }\n",
              "  </style>\n",
              "\n",
              "      <script>\n",
              "        const buttonEl =\n",
              "          document.querySelector('#df-a53b30d6-4b77-4033-beba-d1a5206a8680 button.colab-df-convert');\n",
              "        buttonEl.style.display =\n",
              "          google.colab.kernel.accessAllowed ? 'block' : 'none';\n",
              "\n",
              "        async function convertToInteractive(key) {\n",
              "          const element = document.querySelector('#df-a53b30d6-4b77-4033-beba-d1a5206a8680');\n",
              "          const dataTable =\n",
              "            await google.colab.kernel.invokeFunction('convertToInteractive',\n",
              "                                                     [key], {});\n",
              "          if (!dataTable) return;\n",
              "\n",
              "          const docLinkHtml = 'Like what you see? Visit the ' +\n",
              "            '<a target=\"_blank\" href=https://colab.research.google.com/notebooks/data_table.ipynb>data table notebook</a>'\n",
              "            + ' to learn more about interactive tables.';\n",
              "          element.innerHTML = '';\n",
              "          dataTable['output_type'] = 'display_data';\n",
              "          await google.colab.output.renderOutput(dataTable, element);\n",
              "          const docLink = document.createElement('div');\n",
              "          docLink.innerHTML = docLinkHtml;\n",
              "          element.appendChild(docLink);\n",
              "        }\n",
              "      </script>\n",
              "    </div>\n",
              "  </div>\n",
              "  "
            ]
          },
          "metadata": {},
          "execution_count": 32
        }
      ]
    },
    {
      "cell_type": "markdown",
      "source": [
        "**Support Vector Machine**"
      ],
      "metadata": {
        "id": "_qio9NFudQsJ"
      }
    },
    {
      "cell_type": "code",
      "source": [
        "svm_model = svm.SVC(gamma='auto',C=5,kernel='rbf')\n",
        "svm_model.fit(X_train,y_train)\n",
        "y_pred = svm_model.predict(X_test)\n",
        "print(classification_report(y_test,y_pred))"
      ],
      "metadata": {
        "execution": {
          "iopub.status.busy": "2021-05-24T12:40:32.157178Z",
          "iopub.execute_input": "2021-05-24T12:40:32.157645Z",
          "iopub.status.idle": "2021-05-24T12:40:36.567738Z",
          "shell.execute_reply.started": "2021-05-24T12:40:32.157597Z",
          "shell.execute_reply": "2021-05-24T12:40:36.566955Z"
        },
        "trusted": true,
        "id": "w11YVOjAdQsJ",
        "colab": {
          "base_uri": "https://localhost:8080/"
        },
        "outputId": "05e72d4f-c803-4b8a-934f-ddbe746da893"
      },
      "execution_count": 33,
      "outputs": [
        {
          "output_type": "stream",
          "name": "stdout",
          "text": [
            "              precision    recall  f1-score   support\n",
            "\n",
            "           0       0.55      0.85      0.67       895\n",
            "           1       0.83      0.53      0.65      1305\n",
            "\n",
            "    accuracy                           0.66      2200\n",
            "   macro avg       0.69      0.69      0.66      2200\n",
            "weighted avg       0.72      0.66      0.66      2200\n",
            "\n"
          ]
        }
      ]
    },
    {
      "cell_type": "markdown",
      "source": [
        "**Random Forest Classifier**"
      ],
      "metadata": {
        "id": "vAjNkjtfdQsJ"
      }
    },
    {
      "cell_type": "code",
      "source": [
        "params = {'n_estimators':[100,150], 'criterion':['gini', 'entropy']}\n",
        "#Hyper parameter tuning\n",
        "rf_model =GridSearchCV(estimator=RandomForestClassifier(),param_grid=params,scoring='accuracy', cv=5)\n",
        "rf_model = rf_model.fit(X_train,y_train)\n",
        "y_pred=rf_model.predict(X_test)\n",
        "print(classification_report(y_test,y_pred))"
      ],
      "metadata": {
        "execution": {
          "iopub.status.busy": "2021-05-24T12:40:36.56878Z",
          "iopub.execute_input": "2021-05-24T12:40:36.569211Z",
          "iopub.status.idle": "2021-05-24T12:41:00.727459Z",
          "shell.execute_reply.started": "2021-05-24T12:40:36.569168Z",
          "shell.execute_reply": "2021-05-24T12:41:00.726241Z"
        },
        "trusted": true,
        "id": "Ftpnn4LpdQsJ",
        "colab": {
          "base_uri": "https://localhost:8080/"
        },
        "outputId": "5e069dd5-3ab6-481c-f16a-d0f90b8fa172"
      },
      "execution_count": 34,
      "outputs": [
        {
          "output_type": "stream",
          "name": "stdout",
          "text": [
            "              precision    recall  f1-score   support\n",
            "\n",
            "           0       0.58      0.66      0.62       895\n",
            "           1       0.74      0.67      0.71      1305\n",
            "\n",
            "    accuracy                           0.67      2200\n",
            "   macro avg       0.66      0.66      0.66      2200\n",
            "weighted avg       0.68      0.67      0.67      2200\n",
            "\n"
          ]
        }
      ]
    },
    {
      "cell_type": "markdown",
      "source": [
        "**XGBOOST**"
      ],
      "metadata": {
        "id": "AeQp40LIlXn8"
      }
    },
    {
      "cell_type": "code",
      "source": [
        "xgbr = xgb.XGBRegressor(verbosity=0) \n",
        "print(xgbr)\n",
        "XGBRegressor(base_score=0.5, booster='gbtree', colsample_bylevel=1,\n",
        "       colsample_bynode=1, colsample_bytree=1, gamma=0,\n",
        "       importance_type='gain', learning_rate=0.1, max_delta_step=0,\n",
        "       max_depth=3, min_child_weight=1, missing=None, n_estimators=100,\n",
        "       n_jobs=1, nthread=None, objective='reg:linear', random_state=0,\n",
        "       reg_alpha=0, reg_lambda=1, scale_pos_weight=1, seed=None,\n",
        "       silent=None, subsample=1, verbosity=1)\n",
        "xgbr.fit(X_train, y_train)\n",
        "score = xgbr.score(X_train, y_train)  \n",
        "print(\"Training score: \", score)"
      ],
      "metadata": {
        "colab": {
          "base_uri": "https://localhost:8080/"
        },
        "id": "dMo8w9KmlH4K",
        "outputId": "9ebf6bb4-cdbf-444d-952f-e50f8127e015"
      },
      "execution_count": 35,
      "outputs": [
        {
          "output_type": "stream",
          "name": "stdout",
          "text": [
            "XGBRegressor(verbosity=0)\n",
            "Training score:  0.29123077585289303\n"
          ]
        }
      ]
    },
    {
      "cell_type": "markdown",
      "source": [
        "**Artificial Neural Network**"
      ],
      "metadata": {
        "id": "iAlNLoM1dQsJ"
      }
    },
    {
      "cell_type": "code",
      "source": [
        "ann = Sequential()\n",
        "ann.add(Dense(14,input_dim=8,activation='relu'))\n",
        "ann.add(Dense(8,activation='relu'))\n",
        "ann.add(Dense(8,activation='relu'))\n",
        "ann.add(Dense(8,activation='relu'))\n",
        "ann.add(Dense(1,activation='sigmoid'))\n",
        "ann.compile(loss=\"binary_crossentropy\", optimizer='Adam',metrics=['accuracy'])\n",
        "ann.fit(X_train, y_train, epochs=100, batch_size=15)"
      ],
      "metadata": {
        "execution": {
          "iopub.status.busy": "2021-05-24T12:41:00.72912Z",
          "iopub.execute_input": "2021-05-24T12:41:00.729539Z",
          "iopub.status.idle": "2021-05-24T12:42:03.722726Z",
          "shell.execute_reply.started": "2021-05-24T12:41:00.729495Z",
          "shell.execute_reply": "2021-05-24T12:42:03.721726Z"
        },
        "trusted": true,
        "id": "qHh5ym43dQsJ",
        "colab": {
          "base_uri": "https://localhost:8080/"
        },
        "outputId": "618e0e23-3a0a-4cde-9076-47f57733caee"
      },
      "execution_count": 36,
      "outputs": [
        {
          "output_type": "stream",
          "name": "stdout",
          "text": [
            "Epoch 1/100\n",
            "587/587 [==============================] - 5s 3ms/step - loss: 0.5847 - accuracy: 0.6246\n",
            "Epoch 2/100\n",
            "587/587 [==============================] - 2s 3ms/step - loss: 0.5281 - accuracy: 0.6550\n",
            "Epoch 3/100\n",
            "587/587 [==============================] - 2s 3ms/step - loss: 0.5244 - accuracy: 0.6644\n",
            "Epoch 4/100\n",
            "587/587 [==============================] - 2s 3ms/step - loss: 0.5224 - accuracy: 0.6606\n",
            "Epoch 5/100\n",
            "587/587 [==============================] - 2s 3ms/step - loss: 0.5202 - accuracy: 0.6593\n",
            "Epoch 6/100\n",
            "587/587 [==============================] - 2s 3ms/step - loss: 0.5185 - accuracy: 0.6636\n",
            "Epoch 7/100\n",
            "587/587 [==============================] - 2s 3ms/step - loss: 0.5170 - accuracy: 0.6706\n",
            "Epoch 8/100\n",
            "587/587 [==============================] - 2s 3ms/step - loss: 0.5153 - accuracy: 0.6720\n",
            "Epoch 9/100\n",
            "587/587 [==============================] - 2s 3ms/step - loss: 0.5148 - accuracy: 0.6735\n",
            "Epoch 10/100\n",
            "587/587 [==============================] - 2s 3ms/step - loss: 0.5140 - accuracy: 0.6756\n",
            "Epoch 11/100\n",
            "587/587 [==============================] - 2s 3ms/step - loss: 0.5125 - accuracy: 0.6714\n",
            "Epoch 12/100\n",
            "587/587 [==============================] - 2s 3ms/step - loss: 0.5116 - accuracy: 0.6764\n",
            "Epoch 13/100\n",
            "587/587 [==============================] - 2s 3ms/step - loss: 0.5109 - accuracy: 0.6771\n",
            "Epoch 14/100\n",
            "587/587 [==============================] - 2s 3ms/step - loss: 0.5099 - accuracy: 0.6779\n",
            "Epoch 15/100\n",
            "587/587 [==============================] - 2s 3ms/step - loss: 0.5095 - accuracy: 0.6777\n",
            "Epoch 16/100\n",
            "587/587 [==============================] - 2s 3ms/step - loss: 0.5080 - accuracy: 0.6751\n",
            "Epoch 17/100\n",
            "587/587 [==============================] - 2s 3ms/step - loss: 0.5087 - accuracy: 0.6796\n",
            "Epoch 18/100\n",
            "587/587 [==============================] - 2s 3ms/step - loss: 0.5083 - accuracy: 0.6787\n",
            "Epoch 19/100\n",
            "587/587 [==============================] - 2s 4ms/step - loss: 0.5068 - accuracy: 0.6780\n",
            "Epoch 20/100\n",
            "587/587 [==============================] - 2s 4ms/step - loss: 0.5077 - accuracy: 0.6798\n",
            "Epoch 21/100\n",
            "587/587 [==============================] - 2s 3ms/step - loss: 0.5068 - accuracy: 0.6800\n",
            "Epoch 22/100\n",
            "587/587 [==============================] - 2s 3ms/step - loss: 0.5056 - accuracy: 0.6834\n",
            "Epoch 23/100\n",
            "587/587 [==============================] - 2s 3ms/step - loss: 0.5061 - accuracy: 0.6777\n",
            "Epoch 24/100\n",
            "587/587 [==============================] - 2s 3ms/step - loss: 0.5040 - accuracy: 0.6846\n",
            "Epoch 25/100\n",
            "587/587 [==============================] - 2s 3ms/step - loss: 0.5055 - accuracy: 0.6797\n",
            "Epoch 26/100\n",
            "587/587 [==============================] - 2s 3ms/step - loss: 0.5035 - accuracy: 0.6800\n",
            "Epoch 27/100\n",
            "587/587 [==============================] - 2s 3ms/step - loss: 0.5040 - accuracy: 0.6804\n",
            "Epoch 28/100\n",
            "587/587 [==============================] - 2s 3ms/step - loss: 0.5044 - accuracy: 0.6859\n",
            "Epoch 29/100\n",
            "587/587 [==============================] - 2s 3ms/step - loss: 0.5039 - accuracy: 0.6777\n",
            "Epoch 30/100\n",
            "587/587 [==============================] - 2s 3ms/step - loss: 0.5033 - accuracy: 0.6793\n",
            "Epoch 31/100\n",
            "587/587 [==============================] - 2s 3ms/step - loss: 0.5031 - accuracy: 0.6825\n",
            "Epoch 32/100\n",
            "587/587 [==============================] - 2s 3ms/step - loss: 0.5026 - accuracy: 0.6806\n",
            "Epoch 33/100\n",
            "587/587 [==============================] - 2s 3ms/step - loss: 0.5031 - accuracy: 0.6816\n",
            "Epoch 34/100\n",
            "587/587 [==============================] - 2s 3ms/step - loss: 0.5022 - accuracy: 0.6837\n",
            "Epoch 35/100\n",
            "587/587 [==============================] - 2s 3ms/step - loss: 0.5024 - accuracy: 0.6787\n",
            "Epoch 36/100\n",
            "587/587 [==============================] - 2s 3ms/step - loss: 0.5023 - accuracy: 0.6862\n",
            "Epoch 37/100\n",
            "587/587 [==============================] - 2s 3ms/step - loss: 0.5026 - accuracy: 0.6796\n",
            "Epoch 38/100\n",
            "587/587 [==============================] - 2s 3ms/step - loss: 0.5005 - accuracy: 0.6822\n",
            "Epoch 39/100\n",
            "587/587 [==============================] - 2s 3ms/step - loss: 0.5016 - accuracy: 0.6819\n",
            "Epoch 40/100\n",
            "587/587 [==============================] - 2s 3ms/step - loss: 0.5013 - accuracy: 0.6843\n",
            "Epoch 41/100\n",
            "587/587 [==============================] - 2s 3ms/step - loss: 0.4993 - accuracy: 0.6829\n",
            "Epoch 42/100\n",
            "587/587 [==============================] - 2s 3ms/step - loss: 0.5002 - accuracy: 0.6805\n",
            "Epoch 43/100\n",
            "587/587 [==============================] - 2s 3ms/step - loss: 0.4999 - accuracy: 0.6808\n",
            "Epoch 44/100\n",
            "587/587 [==============================] - 2s 3ms/step - loss: 0.5006 - accuracy: 0.6854\n",
            "Epoch 45/100\n",
            "587/587 [==============================] - 2s 3ms/step - loss: 0.4993 - accuracy: 0.6822\n",
            "Epoch 46/100\n",
            "587/587 [==============================] - 2s 3ms/step - loss: 0.4986 - accuracy: 0.6852\n",
            "Epoch 47/100\n",
            "587/587 [==============================] - 2s 3ms/step - loss: 0.5002 - accuracy: 0.6834\n",
            "Epoch 48/100\n",
            "587/587 [==============================] - 2s 3ms/step - loss: 0.4980 - accuracy: 0.6867\n",
            "Epoch 49/100\n",
            "587/587 [==============================] - 2s 3ms/step - loss: 0.4983 - accuracy: 0.6829\n",
            "Epoch 50/100\n",
            "587/587 [==============================] - 2s 3ms/step - loss: 0.4995 - accuracy: 0.6821\n",
            "Epoch 51/100\n",
            "587/587 [==============================] - 2s 3ms/step - loss: 0.4980 - accuracy: 0.6854\n",
            "Epoch 52/100\n",
            "587/587 [==============================] - 2s 3ms/step - loss: 0.4983 - accuracy: 0.6839\n",
            "Epoch 53/100\n",
            "587/587 [==============================] - 2s 3ms/step - loss: 0.4982 - accuracy: 0.6844\n",
            "Epoch 54/100\n",
            "587/587 [==============================] - 2s 3ms/step - loss: 0.4985 - accuracy: 0.6866\n",
            "Epoch 55/100\n",
            "587/587 [==============================] - 2s 3ms/step - loss: 0.4975 - accuracy: 0.6852\n",
            "Epoch 56/100\n",
            "587/587 [==============================] - 2s 3ms/step - loss: 0.4971 - accuracy: 0.6886\n",
            "Epoch 57/100\n",
            "587/587 [==============================] - 2s 3ms/step - loss: 0.4988 - accuracy: 0.6854\n",
            "Epoch 58/100\n",
            "587/587 [==============================] - 2s 3ms/step - loss: 0.4985 - accuracy: 0.6871\n",
            "Epoch 59/100\n",
            "587/587 [==============================] - 2s 3ms/step - loss: 0.4974 - accuracy: 0.6881\n",
            "Epoch 60/100\n",
            "587/587 [==============================] - 2s 3ms/step - loss: 0.4961 - accuracy: 0.6892\n",
            "Epoch 61/100\n",
            "587/587 [==============================] - 2s 3ms/step - loss: 0.4960 - accuracy: 0.6880\n",
            "Epoch 62/100\n",
            "587/587 [==============================] - 2s 3ms/step - loss: 0.4972 - accuracy: 0.6864\n",
            "Epoch 63/100\n",
            "587/587 [==============================] - 2s 3ms/step - loss: 0.4975 - accuracy: 0.6867\n",
            "Epoch 64/100\n",
            "587/587 [==============================] - 2s 3ms/step - loss: 0.4960 - accuracy: 0.6899\n",
            "Epoch 65/100\n",
            "587/587 [==============================] - 2s 3ms/step - loss: 0.4952 - accuracy: 0.6876\n",
            "Epoch 66/100\n",
            "587/587 [==============================] - 2s 3ms/step - loss: 0.4964 - accuracy: 0.6909\n",
            "Epoch 67/100\n",
            "587/587 [==============================] - 2s 3ms/step - loss: 0.4954 - accuracy: 0.6899\n",
            "Epoch 68/100\n",
            "587/587 [==============================] - 2s 3ms/step - loss: 0.4961 - accuracy: 0.6839\n",
            "Epoch 69/100\n",
            "587/587 [==============================] - 2s 3ms/step - loss: 0.4952 - accuracy: 0.6877\n",
            "Epoch 70/100\n",
            "587/587 [==============================] - 2s 3ms/step - loss: 0.4962 - accuracy: 0.6862\n",
            "Epoch 71/100\n",
            "587/587 [==============================] - 2s 3ms/step - loss: 0.4954 - accuracy: 0.6883\n",
            "Epoch 72/100\n",
            "587/587 [==============================] - 2s 3ms/step - loss: 0.4956 - accuracy: 0.6886\n",
            "Epoch 73/100\n",
            "587/587 [==============================] - 2s 3ms/step - loss: 0.4952 - accuracy: 0.6864\n",
            "Epoch 74/100\n",
            "587/587 [==============================] - 2s 3ms/step - loss: 0.4957 - accuracy: 0.6894\n",
            "Epoch 75/100\n",
            "587/587 [==============================] - 2s 3ms/step - loss: 0.4949 - accuracy: 0.6885\n",
            "Epoch 76/100\n",
            "587/587 [==============================] - 2s 3ms/step - loss: 0.4958 - accuracy: 0.6902\n",
            "Epoch 77/100\n",
            "587/587 [==============================] - 2s 3ms/step - loss: 0.4954 - accuracy: 0.6892\n",
            "Epoch 78/100\n",
            "587/587 [==============================] - 2s 3ms/step - loss: 0.4952 - accuracy: 0.6899\n",
            "Epoch 79/100\n",
            "587/587 [==============================] - 2s 3ms/step - loss: 0.4940 - accuracy: 0.6919\n",
            "Epoch 80/100\n",
            "587/587 [==============================] - 2s 3ms/step - loss: 0.4937 - accuracy: 0.6956\n",
            "Epoch 81/100\n",
            "587/587 [==============================] - 2s 3ms/step - loss: 0.4944 - accuracy: 0.6892\n",
            "Epoch 82/100\n",
            "587/587 [==============================] - 2s 3ms/step - loss: 0.4952 - accuracy: 0.6878\n",
            "Epoch 83/100\n",
            "587/587 [==============================] - 2s 3ms/step - loss: 0.4936 - accuracy: 0.6856\n",
            "Epoch 84/100\n",
            "587/587 [==============================] - 2s 3ms/step - loss: 0.4943 - accuracy: 0.6883\n",
            "Epoch 85/100\n",
            "587/587 [==============================] - 2s 3ms/step - loss: 0.4945 - accuracy: 0.6892\n",
            "Epoch 86/100\n",
            "587/587 [==============================] - 2s 3ms/step - loss: 0.4945 - accuracy: 0.6921\n",
            "Epoch 87/100\n",
            "587/587 [==============================] - 2s 3ms/step - loss: 0.4936 - accuracy: 0.6869\n",
            "Epoch 88/100\n",
            "587/587 [==============================] - 2s 3ms/step - loss: 0.4942 - accuracy: 0.6883\n",
            "Epoch 89/100\n",
            "587/587 [==============================] - 2s 3ms/step - loss: 0.4933 - accuracy: 0.6905\n",
            "Epoch 90/100\n",
            "587/587 [==============================] - 2s 3ms/step - loss: 0.4930 - accuracy: 0.6869\n",
            "Epoch 91/100\n",
            "587/587 [==============================] - 2s 3ms/step - loss: 0.4943 - accuracy: 0.6895\n",
            "Epoch 92/100\n",
            "587/587 [==============================] - 2s 3ms/step - loss: 0.4936 - accuracy: 0.6916\n",
            "Epoch 93/100\n",
            "587/587 [==============================] - 2s 3ms/step - loss: 0.4939 - accuracy: 0.6901\n",
            "Epoch 94/100\n",
            "587/587 [==============================] - 2s 3ms/step - loss: 0.4929 - accuracy: 0.6933\n",
            "Epoch 95/100\n",
            "587/587 [==============================] - 2s 3ms/step - loss: 0.4929 - accuracy: 0.6925\n",
            "Epoch 96/100\n",
            "587/587 [==============================] - 2s 3ms/step - loss: 0.4940 - accuracy: 0.6918\n",
            "Epoch 97/100\n",
            "587/587 [==============================] - 2s 3ms/step - loss: 0.4932 - accuracy: 0.6899\n",
            "Epoch 98/100\n",
            "587/587 [==============================] - 2s 3ms/step - loss: 0.4937 - accuracy: 0.6891\n",
            "Epoch 99/100\n",
            "587/587 [==============================] - 2s 3ms/step - loss: 0.4952 - accuracy: 0.6908\n",
            "Epoch 100/100\n",
            "587/587 [==============================] - 2s 3ms/step - loss: 0.4922 - accuracy: 0.6899\n"
          ]
        },
        {
          "output_type": "execute_result",
          "data": {
            "text/plain": [
              "<keras.callbacks.History at 0x7fae5762e650>"
            ]
          },
          "metadata": {},
          "execution_count": 36
        }
      ]
    },
    {
      "cell_type": "code",
      "source": [
        "predictions = (ann.predict(X_test) > 0.5)\n",
        "print(classification_report(y_test,predictions))"
      ],
      "metadata": {
        "execution": {
          "iopub.status.busy": "2021-05-24T12:42:03.724468Z",
          "iopub.execute_input": "2021-05-24T12:42:03.72517Z",
          "iopub.status.idle": "2021-05-24T12:42:03.907353Z",
          "shell.execute_reply.started": "2021-05-24T12:42:03.725125Z",
          "shell.execute_reply": "2021-05-24T12:42:03.906311Z"
        },
        "trusted": true,
        "id": "d6bDSrrkdQsJ",
        "colab": {
          "base_uri": "https://localhost:8080/"
        },
        "outputId": "b261e2e7-30c6-4ecb-9e2c-6ef20d6cf1bf"
      },
      "execution_count": 37,
      "outputs": [
        {
          "output_type": "stream",
          "name": "stdout",
          "text": [
            "              precision    recall  f1-score   support\n",
            "\n",
            "           0       0.57      0.89      0.69       895\n",
            "           1       0.87      0.53      0.66      1305\n",
            "\n",
            "    accuracy                           0.68      2200\n",
            "   macro avg       0.72      0.71      0.68      2200\n",
            "weighted avg       0.75      0.68      0.67      2200\n",
            "\n"
          ]
        }
      ]
    },
    {
      "cell_type": "markdown",
      "source": [
        "**Conclusion:**\n",
        "* ANN gives better accuracy of 68% than SVM and Random forest"
      ],
      "metadata": {
        "id": "5OlBz2R1dQsK"
      }
    },
    {
      "cell_type": "code",
      "source": [
        "from sklearn.linear_model import LinearRegression\n",
        "from sklearn.model_selection import cross_val_score\n",
        "from sklearn.ensemble import RandomForestRegressor\n",
        "from sklearn.preprocessing import StandardScaler\n",
        "from sklearn.pipeline import Pipeline\n",
        "from sklearn.model_selection import GridSearchCV, RandomizedSearchCV\n",
        "from sklearn.metrics import *\n",
        "from sklearn.linear_model import LinearRegression, RANSACRegressor, Lasso, Ridge, SGDRegressor\n",
        "from sklearn.ensemble import RandomForestRegressor\n",
        "from xgboost import XGBRegressor\n",
        "from sklearn.neighbors import KNeighborsRegressor\n",
        "from sklearn.tree import DecisionTreeRegressor"
      ],
      "metadata": {
        "id": "1XQTmcJ5msKV"
      },
      "execution_count": 38,
      "outputs": []
    },
    {
      "cell_type": "code",
      "source": [
        "lr_pipeline = Pipeline([(\"scaler\", StandardScaler()), (\"linear_regression\", LinearRegression())])\n",
        "ridge_pipeline = Pipeline([(\"scaler\", StandardScaler()), (\"ridge_regressor\", Ridge(random_state = 42))])\n",
        "lasso_pipeline = Pipeline([(\"scaler\", StandardScaler()), (\"lasso_regressor\", Lasso(random_state = 42))])\n",
        "random_forest_pipeline = Pipeline([(\"scaler\", StandardScaler()), (\"randomforest_regression\", RandomForestRegressor(random_state = 42))])\n",
        "xgboost_pipeline = Pipeline([(\"scaler\", StandardScaler()), (\"xgboost_regression\", XGBRegressor())])\n",
        "knn_pipeline = Pipeline([(\"scaler\", StandardScaler()), (\"knn_regression\", KNeighborsRegressor())])"
      ],
      "metadata": {
        "id": "8JTs8nJEmlBT"
      },
      "execution_count": 39,
      "outputs": []
    },
    {
      "cell_type": "code",
      "source": [
        "pipelines = [lr_pipeline, ridge_pipeline, lasso_pipeline,\n",
        "            random_forest_pipeline, xgboost_pipeline, knn_pipeline]\n",
        "\n",
        "pipe_dict = {0: \"Linear Regression\", 1: \"Ridge\",\n",
        "            2: \"Lasso\", 3: \"RandomForest\", 4: \"XGBoost\",\n",
        "            5: \"Decision Tree\", 6: \"KNN\"}"
      ],
      "metadata": {
        "id": "BuCMvJCImuwm"
      },
      "execution_count": 40,
      "outputs": []
    },
    {
      "cell_type": "code",
      "source": [],
      "metadata": {
        "id": "xHZ_le-xm64d"
      },
      "execution_count": 40,
      "outputs": []
    }
  ]
}